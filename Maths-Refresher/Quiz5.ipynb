{
 "cells": [
  {
   "cell_type": "markdown",
   "metadata": {
    "hideCode": false,
    "hideOutput": true,
    "hidePrompt": true
   },
   "source": [
    "# Quiz 5: Probability\n"
   ]
  },
  {
   "cell_type": "markdown",
   "metadata": {},
   "source": [
    "If you wish, you can do a self grading version of the quiz below. In order to open the interactive version of the notebook, you need to open it in Binder. To do this, hover your mouse over the rocket symbol (near the top right of the page) and click on the word \"Binder\" which should appear. This will load an interactive quiz. The first time you load this it may take a few minutes. "
   ]
  },
  {
   "cell_type": "markdown",
   "metadata": {
    "tags": [
     "remove_cell"
    ]
   },
   "source": [
    "##  Preamble\n",
    "\n",
    "If running in interactive mode, before attempting the questions below you need to run the whole notebook (click \"Cell\" from the dropdown menus and then choose \"Run All\"). \n",
    "\n",
    "The code below installs the required packages, loads up the solutions and the multiple choice question function used below."
   ]
  },
  {
   "cell_type": "code",
   "execution_count": 24,
   "metadata": {
    "tags": [
     "remove_cell"
    ]
   },
   "outputs": [],
   "source": [
    "%%capture \n",
    "%run ./Solutions.ipynb "
   ]
  },
  {
   "cell_type": "markdown",
   "metadata": {
    "hideCode": true
   },
   "source": [
    "## Quiz\n",
    "\n",
    "This quiz tests materials in the section called \"Probability\". If you are struggling with the questions go back and re-read the relevant material.\n"
   ]
  },
  {
   "cell_type": "markdown",
   "metadata": {
    "tags": [
     "remove_cell"
    ]
   },
   "source": [
    "Each question is initially set to a default value. Choose the correct value and press submit."
   ]
  },
  {
   "cell_type": "markdown",
   "metadata": {},
   "source": [
    "Four data scientists (Anjali, Natalie, Xavier and Yu Yan) enter a building which contains six meeting rooms (labelled 1 to 6). Each data scientist enters one of the meeting rooms. "
   ]
  },
  {
   "cell_type": "markdown",
   "metadata": {
    "hidePrompt": false
   },
   "source": [
    "**Question 1**: What is a suitable sample space for the experiment of recording the number of data scientists who enter meeting room 5?\n",
    "\n",
    "Choose the correct answer:\n",
    "\n",
    "1. $\\Omega = \\{1, 2, 3, 4 \\}$\n",
    "2. $\\Omega = \\{5 \\}$\n",
    "3. $\\Omega = \\{0, 1, 2, 3, 4 \\}$\n",
    "4. $\\Omega = \\{1, 2, 3, 4, 5, 6 \\}$"
   ]
  },
  {
   "cell_type": "code",
   "execution_count": 25,
   "metadata": {
    "hideCode": false,
    "hidePrompt": false,
    "tags": [
     "remove_cell"
    ]
   },
   "outputs": [
    {
     "data": {
      "application/vnd.jupyter.widget-view+json": {
       "model_id": "4f545a296d6d4a90b41043a41221275f",
       "version_major": 2,
       "version_minor": 0
      },
      "text/plain": [
       "VBox(children=(Output(), RadioButtons(options=((1, 0), (2, 1), (3, 2), (4, 3)), value=0), Button(description='…"
      ]
     },
     "metadata": {},
     "output_type": "display_data"
    }
   ],
   "source": [
    " display(qs5[\"Q5_1\"])"
   ]
  },
  {
   "cell_type": "markdown",
   "metadata": {},
   "source": [
    "**Question 2**: What is a suitable sample space for the experiment of recording the meeting room that Xavier enters?\n",
    "\n",
    "Choose the correct answer:\n",
    "\n",
    "1. $\\Omega = \\{1, 2, 3, 4 \\}$\n",
    "2. $\\Omega = \\{5 \\}$\n",
    "3. $\\Omega = \\{0, 1, 2, 3, 4 \\}$\n",
    "4. $\\Omega = \\{1, 2, 3, 4, 5, 6 \\}$"
   ]
  },
  {
   "cell_type": "code",
   "execution_count": 26,
   "metadata": {
    "tags": [
     "remove_cell"
    ]
   },
   "outputs": [
    {
     "data": {
      "application/vnd.jupyter.widget-view+json": {
       "model_id": "404ae1ff270f48df8f6ae875432a0503",
       "version_major": 2,
       "version_minor": 0
      },
      "text/plain": [
       "VBox(children=(Output(), RadioButtons(options=((1, 0), (2, 1), (3, 2), (4, 3)), value=0), Button(description='…"
      ]
     },
     "metadata": {},
     "output_type": "display_data"
    }
   ],
   "source": [
    " display(qs5[\"Q5_2\"])"
   ]
  },
  {
   "cell_type": "markdown",
   "metadata": {},
   "source": [
    "**Question 3**: What is a suitable sample space for the experiment of recording the number of meeting rooms that one or more data scientists enter?\n",
    "\n",
    "Choose the correct answer:\n",
    "\n",
    "1. $\\Omega = \\{1, 2, 3, 4 \\}$\n",
    "2. $\\Omega = \\{3 \\}$\n",
    "3. $\\Omega = \\{0, 1, 2, 3, 4 \\}$\n",
    "4. $\\Omega = \\{1, 2, 3, 4, 5, 6 \\}$"
   ]
  },
  {
   "cell_type": "code",
   "execution_count": 27,
   "metadata": {
    "tags": [
     "remove_cell"
    ]
   },
   "outputs": [
    {
     "data": {
      "application/vnd.jupyter.widget-view+json": {
       "model_id": "b59946bf78934e708d1c83456bebfc81",
       "version_major": 2,
       "version_minor": 0
      },
      "text/plain": [
       "VBox(children=(Output(), RadioButtons(options=((1, 0), (2, 1), (3, 2), (4, 3)), value=0), Button(description='…"
      ]
     },
     "metadata": {},
     "output_type": "display_data"
    }
   ],
   "source": [
    " display(qs5[\"Q5_3\"])"
   ]
  },
  {
   "cell_type": "markdown",
   "metadata": {},
   "source": [
    "In a popular internet search engine, the probability that a search term contains the word \"influenza\" is 0.003. The  probability that a search term contains the word \"antibiotic\" is 0.001. \n",
    "\n",
    "One search term is drawn randomly from today's searches. "
   ]
  },
  {
   "cell_type": "markdown",
   "metadata": {
    "hideCode": true
   },
   "source": [
    "**Question 4**: What is the probability that the search term contains the word \"influenza\" *and* the word \"antibiotic\"?\n",
    "\n",
    "Choose the correct solution:\n",
    "\n",
    "1. $0.004$\n",
    "2. $0.0003$\n",
    "3. $0.000003$\n",
    "4. $0.0004$"
   ]
  },
  {
   "cell_type": "code",
   "execution_count": 28,
   "metadata": {
    "tags": [
     "remove_cell"
    ]
   },
   "outputs": [
    {
     "data": {
      "application/vnd.jupyter.widget-view+json": {
       "model_id": "1a716f5886f041a4aeb75f24119a4539",
       "version_major": 2,
       "version_minor": 0
      },
      "text/plain": [
       "VBox(children=(Output(), RadioButtons(options=((1, 0), (2, 1), (3, 2), (4, 3)), value=0), Button(description='…"
      ]
     },
     "metadata": {},
     "output_type": "display_data"
    }
   ],
   "source": [
    " display(qs5[\"Q5_4\"])"
   ]
  },
  {
   "cell_type": "markdown",
   "metadata": {},
   "source": [
    "**Question 5**: What is the probability that the search term either contains the word \"influenza\" or the word \"antibiotic\" or both? \n",
    "\n",
    "\n",
    "Choose the correct answer:\n",
    "\n",
    "1. $0.04$\n",
    "2. $0.002$\n",
    "3. $0.000205$\n",
    "4. $0.003997$"
   ]
  },
  {
   "cell_type": "code",
   "execution_count": 29,
   "metadata": {
    "tags": [
     "remove_cell"
    ]
   },
   "outputs": [
    {
     "data": {
      "application/vnd.jupyter.widget-view+json": {
       "model_id": "3731b145aa4749f3b8c5bc5c6df51de9",
       "version_major": 2,
       "version_minor": 0
      },
      "text/plain": [
       "VBox(children=(Output(), RadioButtons(options=((1, 0), (2, 1), (3, 2), (4, 3)), value=0), Button(description='…"
      ]
     },
     "metadata": {},
     "output_type": "display_data"
    }
   ],
   "source": [
    " display(qs5[\"Q5_5\"])"
   ]
  },
  {
   "cell_type": "markdown",
   "metadata": {},
   "source": [
    "For questions 4 and 5, what is the key assumption being made? Think about possible ways in which the assumption could be violated."
   ]
  },
  {
   "cell_type": "markdown",
   "metadata": {},
   "source": [
    "A 50-year old man has probability 0.05 of dying before reaching age 60. The probabilities of dying in\n",
    "the next 10 years for 60, 70, 80, 90 and 100 year old men are 0.15, 0.20, 0.50, 0.70 and 1.00 respectively.\n",
    "\n",
    "To answer the next two questions, it may help to first draw a probability tree to illustrate the survival experience of a 50-year old man."
   ]
  },
  {
   "cell_type": "markdown",
   "metadata": {},
   "source": [
    "**Question 6**: What is the probability that a 50-year old man will survive until he is 80?\n",
    "\n",
    "\n",
    "Choose the correct answer:\n",
    "\n",
    "1. $0.48$\n",
    "2. $0.65$\n",
    "3. $1.00$\n",
    "4. $0.05$"
   ]
  },
  {
   "cell_type": "code",
   "execution_count": 30,
   "metadata": {
    "tags": [
     "remove_cell"
    ]
   },
   "outputs": [
    {
     "data": {
      "application/vnd.jupyter.widget-view+json": {
       "model_id": "08bcd3322c704a2d9cac7d8674daa33c",
       "version_major": 2,
       "version_minor": 0
      },
      "text/plain": [
       "VBox(children=(Output(), RadioButtons(options=((1, 0), (2, 1), (3, 2), (4, 3)), value=0), Button(description='…"
      ]
     },
     "metadata": {},
     "output_type": "display_data"
    }
   ],
   "source": [
    " display(qs5[\"Q5_6\"])"
   ]
  },
  {
   "cell_type": "markdown",
   "metadata": {},
   "source": [
    "**Question 7**: What is the probability that a 50-year old man will die between the ages of 70 and 90?\n",
    "\n",
    "Choose the correct answer:\n",
    "\n",
    "1. $0.48$\n",
    "2. $0.65$\n",
    "3. $1.00$\n",
    "4. $0.05$"
   ]
  },
  {
   "cell_type": "code",
   "execution_count": 31,
   "metadata": {
    "tags": [
     "remove_cell"
    ]
   },
   "outputs": [
    {
     "data": {
      "application/vnd.jupyter.widget-view+json": {
       "model_id": "d67f0e239e56425ebd9bb1665ea74297",
       "version_major": 2,
       "version_minor": 0
      },
      "text/plain": [
       "VBox(children=(Output(), RadioButtons(options=((1, 0), (2, 1), (3, 2), (4, 3)), value=0), Button(description='…"
      ]
     },
     "metadata": {},
     "output_type": "display_data"
    }
   ],
   "source": [
    " display(qs5[\"Q5_7\"])"
   ]
  },
  {
   "cell_type": "markdown",
   "metadata": {},
   "source": [
    "The following table shows results from a large population-based study of COVID-19 in the UK during the first half of 2020. \n",
    "\n",
    "| Age-group (years)  | Relative frequency | Proportion admitted to hospital with COVID-19 |\n",
    "| :-: | :-: | :-: | \n",
    "| 0-29 | 0.2 | 0.001 | \n",
    "| 30-69 | 0.65 | 0.01 | \n",
    "| 70+  | 0.15 |  0.05 | \n",
    "\n",
    "For the next few questions we recommend you draw a probability tree displaying these data.\n",
    "\n",
    "In the questions below, we use $Age_{0-29}, Age_{30-69}$ and $Age_{70+}$ to denote the events of being in the three age-groups. We use $H$ and $\\overline{H}$ to denote the events of being hospitalised and not being hospitalised, respectively."
   ]
  },
  {
   "cell_type": "markdown",
   "metadata": {},
   "source": [
    "**Question 8**: What is the probability that a randomly selected person is 30 years or over and not admitted to hospital with COVID-19?\n",
    "\n",
    "Choose the answer which displays the correct calculation:\n",
    "\n",
    "1. $(P(Age_{30-69}) \\times P(Age_{70+}) + (P(\\overline{H}  | Age_{30-69}) \\times P(\\overline{H}  | Age_{70+}))$\n",
    "2. $P(Age_{30-69}) \\times P(\\overline{H} | Age_{30-69}) \\times P(Age_{70+}) \\times P(\\overline{H}  | Age_{70+})$\n",
    "3. $(P(Age_{30-69}) + P(Age_{70+})) \\times (P(\\overline{H}  | Age_{30-69}) + P(\\overline{H}  | Age_{70+}))$\n",
    "4. $P(Age_{30-69}) \\times P(\\overline{H}  | Age_{30-69}) + P(Age_{70+}) \\times P(\\overline{H}  | Age_{70+})$"
   ]
  },
  {
   "cell_type": "code",
   "execution_count": 32,
   "metadata": {
    "tags": [
     "remove_cell"
    ]
   },
   "outputs": [
    {
     "data": {
      "application/vnd.jupyter.widget-view+json": {
       "model_id": "ef74c249d54e442fb2f6b07853fc8d6a",
       "version_major": 2,
       "version_minor": 0
      },
      "text/plain": [
       "VBox(children=(Output(), RadioButtons(options=((1, 0), (2, 1), (3, 2), (4, 3)), value=0), Button(description='…"
      ]
     },
     "metadata": {},
     "output_type": "display_data"
    }
   ],
   "source": [
    " display(qs5[\"Q5_8\"])"
   ]
  },
  {
   "cell_type": "markdown",
   "metadata": {},
   "source": [
    "**Question 9**: What is the probability that a randomly selected person is 30 years or over and admitted to hospital with COVID-19?\n",
    "\n",
    "Choose the correct answer:\n",
    "\n",
    "1. $1 - P(Age_{30+} \\cap \\overline{H})$\n",
    "2. $0.014$\n",
    "3. $1 - P(Age_{30+})\\times P(\\overline{H})$\n",
    "4. $0.00006375$"
   ]
  },
  {
   "cell_type": "code",
   "execution_count": 33,
   "metadata": {
    "tags": [
     "remove_cell"
    ]
   },
   "outputs": [
    {
     "data": {
      "application/vnd.jupyter.widget-view+json": {
       "model_id": "c895c9ca6b974895b04ed70e8e9c908a",
       "version_major": 2,
       "version_minor": 0
      },
      "text/plain": [
       "VBox(children=(Output(), RadioButtons(options=((1, 0), (2, 1), (3, 2), (4, 3)), value=0), Button(description='…"
      ]
     },
     "metadata": {},
     "output_type": "display_data"
    }
   ],
   "source": [
    " display(qs5[\"Q5_9\"])"
   ]
  },
  {
   "cell_type": "markdown",
   "metadata": {},
   "source": [
    "**Question 10**: What is the probability that a randomly selected person is admitted to hospital with COVID-19?\n",
    "\n",
    "Choose the correct answer:\n",
    "\n",
    "1. $0.0142$\n",
    "2. $0.006$\n",
    "3. $0.00006375$\n",
    "4. $0.016$"
   ]
  },
  {
   "cell_type": "code",
   "execution_count": 34,
   "metadata": {
    "tags": [
     "remove_cell"
    ]
   },
   "outputs": [
    {
     "data": {
      "application/vnd.jupyter.widget-view+json": {
       "model_id": "99d7208285ac4d88a8c0f6e15f004ab4",
       "version_major": 2,
       "version_minor": 0
      },
      "text/plain": [
       "VBox(children=(Output(), RadioButtons(options=((1, 0), (2, 1), (3, 2), (4, 3)), value=0), Button(description='…"
      ]
     },
     "metadata": {},
     "output_type": "display_data"
    }
   ],
   "source": [
    " display(qs5[\"Q5_10\"])"
   ]
  }
 ],
 "metadata": {
  "celltoolbar": "Tags",
  "kernelspec": {
   "display_name": "Python 3",
   "language": "python",
   "name": "python3"
  },
  "language_info": {
   "codemirror_mode": {
    "name": "ipython",
    "version": 3
   },
   "file_extension": ".py",
   "mimetype": "text/x-python",
   "name": "python",
   "nbconvert_exporter": "python",
   "pygments_lexer": "ipython3",
   "version": "3.7.7"
  }
 },
 "nbformat": 4,
 "nbformat_minor": 4
}
