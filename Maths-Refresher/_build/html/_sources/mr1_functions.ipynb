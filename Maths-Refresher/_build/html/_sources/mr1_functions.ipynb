{
 "cells": [
  {
   "cell_type": "markdown",
   "metadata": {},
   "source": [
    "# Functions, exponential and logarithm rules"
   ]
  },
  {
   "cell_type": "markdown",
   "metadata": {},
   "source": [
    "## Exponential rules"
   ]
  },
  {
   "cell_type": "markdown",
   "metadata": {},
   "source": [
    "$$a^m \\times a^n = a^{m + n}$$\n",
    "\n",
    "$$a^{-m}  = \\frac{1}{a^m}$$\n",
    "\n",
    "$$\\frac{a^m}{a^n} = a^{m – n}$$\n",
    "\n",
    "$$(a^m)^n = a^{mn}$$\n",
    "\n",
    "$$(ab)^m  = a^m b^m$$\n",
    "\n",
    "$$a^0 = 1$$"
   ]
  },
  {
   "cell_type": "markdown",
   "metadata": {},
   "source": [
    "## Logarithm rules"
   ]
  },
  {
   "cell_type": "markdown",
   "metadata": {},
   "source": [
    "$$log (ab) = log(a) + log(b)$$\n",
    "\n",
    "$$log \\left(\\frac{a}{b}\\right) = log(a) – log(b)$$\n",
    "\n",
    "$$log (a^n) = n log(a)$$\n",
    "        \n",
    "$$log_a (a) = 1$$\n",
    "\n",
    "$$log_a(1) = 0$$\n",
    "\n",
    "We often use natural logarithms. This is sometimes written as $log_e(x)$ or more often $ln(x)$. Sometimes, $log(x)$ is used to refer to the natural logarithm but where possible we will try to use the unambiguous notation."
   ]
  },
  {
   "cell_type": "markdown",
   "metadata": {},
   "source": [
    "## Summation and product functions"
   ]
  },
  {
   "cell_type": "markdown",
   "metadata": {},
   "source": [
    "### The summation function"
   ]
  },
  {
   "cell_type": "markdown",
   "metadata": {},
   "source": [
    "The summation notation is a convenient and concise way of writing sums. For two integers, $a$ and $b$, with $a\\leq b$, and a function $f(.)$ the general notation is:\n",
    "\n",
    "$$\\sum_{i=a}^b f(i) = f(a) + f(a+1) + \\cdots + f(b)$$\n",
    "\n",
    "So, for example, \n",
    "\n",
    "$$\\sum_{i=2}^3 \\frac{e^i \\lambda^i}{i!} = \\frac{e^2 \\lambda^2}{2!} + \\frac{e^3 \\lambda^3}{3!}$$\n",
    "\n",
    "An example that you are likely to encounter frequently is the sum of $x_1$, $x_2$, until $x_n$, \n",
    "\n",
    "$$\\sum_{i=1}^n x_i = (x_1 + x_2 + x_3 + \\cdots + x_n)$$\n",
    "\n",
    "Two useful rules are:\n",
    "\n",
    "$$\\sum_{i=1}^n (a x_i) = a \\sum_{i=1}^{n} x_i$$\n",
    "\n",
    "and\n",
    "\n",
    "$$\\sum_{i=1}^n a = n a$$\t\n"
   ]
  },
  {
   "cell_type": "markdown",
   "metadata": {},
   "source": [
    "### The product function"
   ]
  },
  {
   "cell_type": "markdown",
   "metadata": {},
   "source": [
    "Similarly, the product notation allows us to summarise long multiplications. The product of $x_1$, $x_2$, etc. until $x_n$, for example, can be written\n",
    "\n",
    "$$\\prod_{i=1}^n x_i = (x_1 \\times x_2 \\times x_3 \\times \\cdots \\times x_n)$$\n",
    "\n",
    "A useful multiplication rule is:\n",
    "\n",
    "$$\\prod_{i=1}^n (a x_i) = a^n \\prod_{i=1}^n x_i$$"
   ]
  }
 ],
 "metadata": {
  "kernelspec": {
   "display_name": "R",
   "language": "R",
   "name": "ir"
  },
  "language_info": {
   "codemirror_mode": "r",
   "file_extension": ".r",
   "mimetype": "text/x-r-source",
   "name": "R",
   "pygments_lexer": "r",
   "version": "3.6.1"
  }
 },
 "nbformat": 4,
 "nbformat_minor": 4
}
