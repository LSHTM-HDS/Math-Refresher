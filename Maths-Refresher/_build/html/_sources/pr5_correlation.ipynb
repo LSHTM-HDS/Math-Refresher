{
 "cells": [
  {
   "cell_type": "markdown",
   "metadata": {},
   "source": [
    "# Correlation and covariance"
   ]
  },
  {
   "cell_type": "markdown",
   "metadata": {},
   "source": [
    "Correlation and covariance are measures of the degree of relationship between two continuous random variables."
   ]
  },
  {
   "cell_type": "markdown",
   "metadata": {},
   "source": [
    "## Covariance\n",
    "\n",
    "Let $X$ and $Y$ be two random variables which are not necessarily independent. Then the variance of their sum is found as\n",
    "\n",
    "$$\n",
    "Var(X+Y) = E\\left(((X+Y)-(E(X)+E(Y)))^{2}\\right) \n",
    "$$\n",
    "\n",
    "This can be written as\n",
    "\n",
    "$$ E\\left(((X-E(X)) + (Y-E(Y)))^{2}\\right) \n",
    "$$\n",
    "\n",
    "which equals \n",
    "\n",
    "$$\n",
    "E\\left((X-E(X))^{2} + (Y-E(Y))^{2} + 2(X-E(X))(Y-E(Y)) \\right) \n",
    "$$\n",
    "\n",
    "We can now write this as:\n",
    "\n",
    "$$\n",
    "Var(X+Y) = Var(X) + Var(Y) + 2E((X-E(X))(Y-E(Y))) \n",
    "$$\n",
    "\n",
    "We define the covariance between $X$ and $Y$ as:\n",
    "\n",
    "$$\n",
    "Cov(X,Y) = E\\left( (X-E(X)) (Y-E(Y)) \\right)\n",
    "$$\n",
    "\n",
    "From its definition we see that if when $X-E(X)$ tends to be positive, $Y-E(Y)$ tends to be positive, then $Cov(X,Y)>0$. Conversely, if when $X-E(X)$ tends to be positive, $Y-E(Y)$ tends to be negative, then $Cov(X,Y)<0$.\n",
    "\n",
    "Returning to the equation above, for two random variables $X$ and $Y$ \n",
    "\n",
    "$$\n",
    "Var(X+Y) =  Var(X) + Var(Y) + 2Cov(X,Y)\n",
    "$$\n"
   ]
  },
  {
   "cell_type": "markdown",
   "metadata": {},
   "source": [
    "### Linear association\n",
    "**Note** It is important to remember that covariance is only a measure of *linear* association. Two variables $X$ and $Y$ can be strongly dependent, yet have zero covariance."
   ]
  },
  {
   "cell_type": "markdown",
   "metadata": {},
   "source": [
    "### Rules of covariance\n",
    "\n",
    "There are various rules which covariance follows, resulting from its definition in terms of expectations. For example:\n",
    "\n",
    "- $Cov(X,X) = Var(X)$\n",
    "- $Cov(X, Y) = Cov(Y, X)$\n",
    "- $Cov(aX, bY) = abCov(X, Y)$\n",
    "\n",
    "Try proving the first one for yourself.\n",
    "\n",
    "And some slightly more complex rules (for reference):\n",
    "- $Cov(aR+bS,cX+dY) = acCov(R,X) + adCov(R,Y) + bc Cov(S,X) + bd Cov(S,Y)$\n",
    "- $Cov(aX+bY,cX+dY) = acVar(X) + bdVar(Y) + (ad+bc)Cov(Y,X)$\n",
    "- $Cov(X + Y, X - Y) = Var(X) - Var(Y)$\n"
   ]
  },
  {
   "cell_type": "markdown",
   "metadata": {},
   "source": [
    "## Correlation\n",
    "\n",
    "The size of $Cov(X,Y)$ depends on the scale/magnitude of variability of $X$ and $Y$. The correlation between $X$ and $Y$ is a standardised version of the covariance.\n",
    "\n",
    "$$\n",
    "Corr(X,Y) = \\frac{Cov(X,Y)}{\\sqrt{Var(X)Var(Y)}}.\n",
    "$$\n",
    "\n",
    "We can take the square root of the variance of $X$ and $Y$ to get their standard deviations, $SD(X) = \\sqrt{Var(X)}$ and $SD(Y) = \\sqrt{Var(Y)}$. Then we can also write:\n",
    "\n",
    "$$\n",
    "Corr(X,Y) = \\frac{Cov(X,Y)}{SD(X)SD(Y)}.\n",
    "$$\n",
    "\n",
    "- The correlation coefficient lies between -1 and 1. \n",
    "    - $Corr(X,Y)=1$ or $Corr(X,Y)=-1$ means $X$ and $Y$ are perfectly correlated. \n",
    "    - However, it is important to remember that this does *not* necessarily mean $X$ and $Y$ are equal. \n",
    "    - For example, if $Y=2X$, they have correlation 1 but are not equal to each other. \n",
    "- $Corr(X,Y)=0$ does **not** mean $X$ and $Y$ are independent. \n",
    "    - It is possible for two variables to be strongly dependent (associated) yet have zero correlation.\n",
    "    - As for covariance, correlation is a measure of **linear** association\n",
    "    - However, if $X$ and $Y$ are independent then $Corr(X,Y)=0$. \n"
   ]
  },
  {
   "cell_type": "markdown",
   "metadata": {},
   "source": [
    "### Example\n",
    "\n",
    "In the figure below, try to guess what the correlation between the two variables is. Once you've had a think, click the button on the right to see the correct values.\n",
    "\n",
    "```{figure} Images/correlation.png\n",
    "---\n",
    "height: 400px\n",
    "name: correlation\n",
    "---\n",
    "Examples of correlation between variables\n",
    "```\n",
    "\n",
    "```{toggle}\n",
    "\n",
    "Answers: \n",
    "- top left 0.8 - strong positive correlation\n",
    "- top right-0.55 - moderately strong negative correlation\n",
    "- bottom left 0.001 - no relationship, no correlation\n",
    "- bottom right -0.07 - strong dependence but no linear association so no correlation\n",
    "\n",
    "```"
   ]
  },
  {
   "cell_type": "code",
   "execution_count": null,
   "metadata": {},
   "outputs": [],
   "source": []
  }
 ],
 "metadata": {
  "kernelspec": {
   "display_name": "R",
   "language": "R",
   "name": "ir"
  },
  "language_info": {
   "codemirror_mode": "r",
   "file_extension": ".r",
   "mimetype": "text/x-r-source",
   "name": "R",
   "pygments_lexer": "r",
   "version": "3.6.1"
  }
 },
 "nbformat": 4,
 "nbformat_minor": 4
}
