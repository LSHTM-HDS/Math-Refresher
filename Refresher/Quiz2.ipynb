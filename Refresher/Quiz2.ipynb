{
 "cells": [
  {
   "cell_type": "markdown",
   "metadata": {
    "hideCode": false,
    "hideOutput": true,
    "hidePrompt": true
   },
   "source": [
    "# Quiz 2: Differentiation and integration\n"
   ]
  },
  {
   "cell_type": "markdown",
   "metadata": {},
   "source": [
    "If you wish, you can do a self grading version of the quiz below. In order to open the interactive version of the notebook, you need to open it in Binder. To do this, hover your mouse over the rocket symbol (near the top right of the page) and click on the word \"Binder\" which should appear. This will load an interactive quiz. The first time you load this it may take a few minutes. "
   ]
  },
  {
   "cell_type": "markdown",
   "metadata": {
    "tags": [
     "remove_cell"
    ]
   },
   "source": [
    "##  Preamble\n",
    "\n",
    "If running in interactive mode, before attempting the questions below you need to run the whole notebook (click \"Cell\" from the dropdown menus and then choose \"Run All\"). \n",
    "\n",
    "The code below installs the required packages, loads up the solutions and the multiple choice question function used below."
   ]
  },
  {
   "cell_type": "code",
   "execution_count": 1,
   "metadata": {
    "tags": [
     "remove_cell"
    ]
   },
   "outputs": [],
   "source": [
    "%%capture \n",
    "%run ./Solutions.ipynb "
   ]
  },
  {
   "cell_type": "markdown",
   "metadata": {
    "hideCode": true
   },
   "source": [
    "## Quiz\n",
    "\n",
    "This quiz tests materials in the section called \"Differentiation and Integration\". If you are struggling with the questions go back and re-read the relevant material.\n"
   ]
  },
  {
   "cell_type": "markdown",
   "metadata": {
    "tags": [
     "remove_cell"
    ]
   },
   "source": [
    "Each question is initially set to a default value. Choose the correct value and press submit."
   ]
  },
  {
   "cell_type": "markdown",
   "metadata": {},
   "source": [
    "###  Differentiation\n",
    "\n",
    "The first part contains questions on differentiation"
   ]
  },
  {
   "cell_type": "markdown",
   "metadata": {},
   "source": [
    "**Question 1**: Differentiate the function $f(x) = x^3$. \n",
    "\n",
    "1. $3 x^3$\n",
    "2. $x^3$\n",
    "3. $3 x^2$\n",
    "4. $\\frac{x^4}{4}$"
   ]
  },
  {
   "cell_type": "code",
   "execution_count": 2,
   "metadata": {
    "hideCode": false,
    "hidePrompt": false,
    "tags": [
     "remove_cell"
    ]
   },
   "outputs": [
    {
     "data": {
      "application/vnd.jupyter.widget-view+json": {
       "model_id": "833733bc37314151a0bd0b2ee603c694",
       "version_major": 2,
       "version_minor": 0
      },
      "text/plain": [
       "VBox(children=(Output(), RadioButtons(options=((1, 0), (2, 1), (3, 2), (4, 3)), value=0), Button(description='…"
      ]
     },
     "metadata": {},
     "output_type": "display_data"
    }
   ],
   "source": [
    " display(qs2[\"Q2_1\"])"
   ]
  },
  {
   "cell_type": "markdown",
   "metadata": {},
   "source": [
    "**Question 2**: Differentiate the function $f(x) = x^{-7}$. \n",
    "\n",
    "1. $-7 x^{-8}$\n",
    "2. $\\frac{x^{-9}}{9}$\n",
    "3. $\\frac{-8}{x^8}$\n",
    "4. $\\frac{7 \\times 8 x}{x^8}$"
   ]
  },
  {
   "cell_type": "code",
   "execution_count": 3,
   "metadata": {
    "tags": [
     "remove_cell"
    ]
   },
   "outputs": [
    {
     "data": {
      "application/vnd.jupyter.widget-view+json": {
       "model_id": "157115e473ad49c3a969e98970be25ec",
       "version_major": 2,
       "version_minor": 0
      },
      "text/plain": [
       "VBox(children=(Output(), RadioButtons(options=((1, 0), (2, 1), (3, 2), (4, 3)), value=0), Button(description='…"
      ]
     },
     "metadata": {},
     "output_type": "display_data"
    }
   ],
   "source": [
    " display(qs2[\"Q2_2\"])"
   ]
  },
  {
   "cell_type": "markdown",
   "metadata": {
    "hideCode": true
   },
   "source": [
    "**Question 3**: Differentiate the function $f(x) = \\sqrt{1+x^2}$. \n",
    "\n",
    "1. $\\frac{2x}{(1 + x^2)^{1/2}}$\n",
    "2. $\\frac{x (1 + x)^{-1/2}}{2}$\n",
    "3. $\\{x (1+x^2)\\}^{-1/2}$\n",
    "4. $\\frac{x}{\\sqrt{1 + x^2}}$"
   ]
  },
  {
   "cell_type": "code",
   "execution_count": 4,
   "metadata": {
    "tags": [
     "remove_cell"
    ]
   },
   "outputs": [
    {
     "data": {
      "application/vnd.jupyter.widget-view+json": {
       "model_id": "fc2f74b8324c40ae8c1431011144fa5c",
       "version_major": 2,
       "version_minor": 0
      },
      "text/plain": [
       "VBox(children=(Output(), RadioButtons(options=((1, 0), (2, 1), (3, 2), (4, 3)), value=0), Button(description='…"
      ]
     },
     "metadata": {},
     "output_type": "display_data"
    }
   ],
   "source": [
    " display(qs2[\"Q2_3\"])"
   ]
  },
  {
   "cell_type": "markdown",
   "metadata": {},
   "source": [
    "**Question 4**: Differentiate the function $f(x) = \\frac{1}{log_e(x)}$. \n",
    "\n",
    "1. $\\frac{x}{log_e(x)}$\n",
    "2. $\\frac{-1}{x(log_e(x))^2}$\n",
    "3. $\\frac{-x}{(log_e(x))^2}$\n",
    "4. $\\frac{-1}{(x log_e(x))^2}$"
   ]
  },
  {
   "cell_type": "code",
   "execution_count": 5,
   "metadata": {
    "tags": [
     "remove_cell"
    ]
   },
   "outputs": [
    {
     "data": {
      "application/vnd.jupyter.widget-view+json": {
       "model_id": "a306fedbb79c4bb9a760a2560ec9bd1b",
       "version_major": 2,
       "version_minor": 0
      },
      "text/plain": [
       "VBox(children=(Output(), RadioButtons(options=((1, 0), (2, 1), (3, 2), (4, 3)), value=0), Button(description='…"
      ]
     },
     "metadata": {},
     "output_type": "display_data"
    }
   ],
   "source": [
    " display(qs2[\"Q2_4\"])"
   ]
  },
  {
   "cell_type": "markdown",
   "metadata": {},
   "source": [
    "**Question 5**: Differentiate the function $f(x) = exp(4x)$. \n",
    "\n",
    "1. $4x \\, exp(4x)$\n",
    "2. $4 e^{4x}$\n",
    "3. $16 \\, exp(3x)$\n",
    "4. $4 e^{3x}$"
   ]
  },
  {
   "cell_type": "code",
   "execution_count": 6,
   "metadata": {
    "scrolled": false,
    "tags": [
     "remove_cell"
    ]
   },
   "outputs": [
    {
     "data": {
      "application/vnd.jupyter.widget-view+json": {
       "model_id": "c69e9b5451ed4ca7a6d6805c6b4d44c3",
       "version_major": 2,
       "version_minor": 0
      },
      "text/plain": [
       "VBox(children=(Output(), RadioButtons(options=((1, 0), (2, 1), (3, 2), (4, 3)), value=0), Button(description='…"
      ]
     },
     "metadata": {},
     "output_type": "display_data"
    }
   ],
   "source": [
    " display(qs2[\"Q2_5\"])"
   ]
  },
  {
   "cell_type": "markdown",
   "metadata": {},
   "source": [
    "**Question 6**: Differentiate the function $f(x) = \\frac{(1 + x)}{x^2}$. \n",
    "\n",
    "1. $-\\frac{2(1+x)}{x^3}$\n",
    "2. $\\frac{1}{x^2}$\n",
    "3. $-\\frac{(2+x)}{x^3}$\n",
    "4. $\\frac{(2+x)}{x^3}$"
   ]
  },
  {
   "cell_type": "code",
   "execution_count": 7,
   "metadata": {
    "tags": [
     "remove_cell"
    ]
   },
   "outputs": [
    {
     "data": {
      "application/vnd.jupyter.widget-view+json": {
       "model_id": "f1a0c704508645f5ad89e323935a3b7f",
       "version_major": 2,
       "version_minor": 0
      },
      "text/plain": [
       "VBox(children=(Output(), RadioButtons(options=((1, 0), (2, 1), (3, 2), (4, 3)), value=0), Button(description='…"
      ]
     },
     "metadata": {},
     "output_type": "display_data"
    }
   ],
   "source": [
    " display(qs2[\"Q2_6\"])"
   ]
  },
  {
   "cell_type": "markdown",
   "metadata": {},
   "source": [
    "**Question 7**: Differentiate the function $f(x) = e^{3x^2}$. \n",
    "\n",
    "1. $3x^2 exp(3 x^2)$\n",
    "2. $e^{6x}$\n",
    "3. $3x^2 \\times 6x \\times  e^{3 x^2}$\n",
    "4. $6x e^{3x^2}$"
   ]
  },
  {
   "cell_type": "code",
   "execution_count": 8,
   "metadata": {
    "tags": [
     "remove_cell"
    ]
   },
   "outputs": [
    {
     "data": {
      "application/vnd.jupyter.widget-view+json": {
       "model_id": "7e74e63f3d334ee58cb2f9eb85b0a415",
       "version_major": 2,
       "version_minor": 0
      },
      "text/plain": [
       "VBox(children=(Output(), RadioButtons(options=((1, 0), (2, 1), (3, 2), (4, 3)), value=0), Button(description='…"
      ]
     },
     "metadata": {},
     "output_type": "display_data"
    }
   ],
   "source": [
    " display(qs2[\"Q2_7\"])"
   ]
  },
  {
   "cell_type": "markdown",
   "metadata": {},
   "source": [
    "**Question 8**: Define \n",
    "\n",
    "$$L = -\\frac{(x - \\mu)^2}{s} - \\log(s)$$ \n",
    "\n",
    "Find\n",
    "$\\frac{\\partial L}{\\partial s}$, \n",
    "$\\frac{\\partial L}{\\partial \\mu}$, \n",
    "$\\frac{\\partial^2 L}{\\partial s^2}$, \n",
    "$\\frac{\\partial^2 L}{\\partial \\mu^2}$, \n",
    "$\\frac{\\partial^2 L}{\\partial s \\partial \\mu}$, \n",
    "$\\frac{\\partial^2 L}{\\partial \\mu \\partial s}$.\n",
    "\n",
    "Which of the following are correct? \n",
    "\n",
    "1. $\\frac{\\partial^2 L}{\\partial s^2} = \\frac{2(x-\\mu)^2}{s^3}  + \\frac{1}{s^2}, \\ \\  \\qquad \\frac{\\partial^2 L}{\\partial \\mu^2} = \\frac{-2}{s^2}, \\qquad \\frac{\\partial^2 L}{\\partial s \\partial \\mu} = \\frac{-2(x-\\mu)}{s^2}$\n",
    "2. $\\frac{\\partial^2 L}{\\partial s^2} = \\frac{-2(x-\\mu)^2}{s^3}  - \\frac{1}{s^2}, \\qquad \\frac{\\partial^2 L}{\\partial \\mu^2} = \\frac{2}{s}, \\qquad \\frac{\\partial^2 L}{\\partial s \\partial \\mu} = \\frac{2(x-\\mu)}{s^2}$\n",
    "3. $\\frac{\\partial^2 L}{\\partial s^2} = \\frac{-2(x-\\mu)^2}{s^3} + \\frac{1}{s^2}, \\qquad \\frac{\\partial^2 L}{\\partial \\mu^2} = \\frac{-2}{s}, \\qquad \\frac{\\partial^2 L}{\\partial s \\partial \\mu} = \\frac{-2(x-\\mu)}{s^2}$\n",
    "4. $\\frac{\\partial^2 L}{\\partial s^2} = \\frac{-2(x-\\mu)^2}{s^3}  - \\frac{1}{s^2}, \\qquad \\frac{\\partial^2 L}{\\partial \\mu^2} = \\frac{-2}{s}, \\qquad \\frac{\\partial^2 L}{\\partial s \\partial \\mu} = \\frac{-2(x-\\mu)^2}{s^2}$"
   ]
  },
  {
   "cell_type": "code",
   "execution_count": 9,
   "metadata": {
    "scrolled": true,
    "tags": [
     "remove_cell"
    ]
   },
   "outputs": [
    {
     "data": {
      "application/vnd.jupyter.widget-view+json": {
       "model_id": "56b21fdfd54f4aa98878781e11914555",
       "version_major": 2,
       "version_minor": 0
      },
      "text/plain": [
       "VBox(children=(Output(), RadioButtons(options=((1, 0), (2, 1), (3, 2), (4, 3)), value=0), Button(description='…"
      ]
     },
     "metadata": {},
     "output_type": "display_data"
    }
   ],
   "source": [
    " display(qs2[\"Q2_8\"])"
   ]
  },
  {
   "cell_type": "markdown",
   "metadata": {},
   "source": [
    "###  Integration\n",
    "\n",
    "The next part contains questions on integration."
   ]
  },
  {
   "cell_type": "markdown",
   "metadata": {},
   "source": [
    "**Question 9**: Perform the integration \n",
    "\n",
    "$$\\int 3 x^4 dx$$\n",
    "\n",
    "Choose the correct solution:\n",
    "\n",
    "1. $\\frac{3 x^4}{5} + c$ \n",
    "2. $\\frac{3 x^5}{5} + c$\n",
    "3. $x^3 + c$\n",
    "4. $\\frac{3 x^3}{4} + c$\n",
    "\n",
    "where $c$ is a constant."
   ]
  },
  {
   "cell_type": "code",
   "execution_count": 10,
   "metadata": {
    "tags": [
     "remove_cell"
    ]
   },
   "outputs": [
    {
     "data": {
      "application/vnd.jupyter.widget-view+json": {
       "model_id": "0537947610444f62aa7f9d7aa1c3a0fc",
       "version_major": 2,
       "version_minor": 0
      },
      "text/plain": [
       "VBox(children=(Output(), RadioButtons(options=((1, 0), (2, 1), (3, 2), (4, 3)), value=0), Button(description='…"
      ]
     },
     "metadata": {},
     "output_type": "display_data"
    }
   ],
   "source": [
    " display(qs2[\"Q2_9\"])"
   ]
  },
  {
   "cell_type": "markdown",
   "metadata": {},
   "source": [
    "**Question 10**: Perform the integration \n",
    "\n",
    "$$\\int \\frac{1}{x} dx$$\n",
    "\n",
    "Choose the correct solution:\n",
    "\n",
    "1. $-\\frac{1}{x^2} + c$ \n",
    "2. $x log_e(x) + c$\n",
    "3. $log_e\\left( \\frac{1}{x} \\right) + x$\n",
    "4. $log_e(x) + c$\n",
    "\n",
    "where $c$ is a constant."
   ]
  },
  {
   "cell_type": "code",
   "execution_count": 11,
   "metadata": {
    "tags": [
     "remove_cell"
    ]
   },
   "outputs": [
    {
     "data": {
      "application/vnd.jupyter.widget-view+json": {
       "model_id": "5a0990c63466498d81351ac864c5dd80",
       "version_major": 2,
       "version_minor": 0
      },
      "text/plain": [
       "VBox(children=(Output(), RadioButtons(options=((1, 0), (2, 1), (3, 2), (4, 3)), value=0), Button(description='…"
      ]
     },
     "metadata": {},
     "output_type": "display_data"
    }
   ],
   "source": [
    " display(qs2[\"Q2_10\"])"
   ]
  },
  {
   "cell_type": "markdown",
   "metadata": {},
   "source": [
    "**Question 11**: Perform the integration \n",
    "\n",
    "$$\\int \\frac{x}{x^2-4} dx$$\n",
    "    \n",
    "Choose the correct solution:\n",
    "\n",
    "1. $\\frac{1}{2} log(x^2+4) + c$ \n",
    "2. $log( \\sqrt{x^2+4}) + c$\n",
    "3. $\\frac{1}{2}  log((x-2)(x+2)) + c$\n",
    "4. All of the above\n",
    "\n",
    "where $c$ is a constant."
   ]
  },
  {
   "cell_type": "code",
   "execution_count": 12,
   "metadata": {
    "scrolled": true,
    "tags": [
     "remove_cell"
    ]
   },
   "outputs": [
    {
     "data": {
      "application/vnd.jupyter.widget-view+json": {
       "model_id": "df028474c55e493b9170bd5a1ffb3bc9",
       "version_major": 2,
       "version_minor": 0
      },
      "text/plain": [
       "VBox(children=(Output(), RadioButtons(options=((1, 0), (2, 1), (3, 2), (4, 3)), value=0), Button(description='…"
      ]
     },
     "metadata": {},
     "output_type": "display_data"
    }
   ],
   "source": [
    " display(qs2[\"Q2_11\"])"
   ]
  },
  {
   "cell_type": "markdown",
   "metadata": {},
   "source": [
    "**Question 12**: Find the area under the curve for the following function:\n",
    "\n",
    "$$y = x^2$$\n",
    "\n",
    "a) between $x = 0$ and $x = 3$, and b) between $x = -3$ and $x = -0$\n",
    "\n",
    "Choose the correct option:\n",
    "\n",
    "1. a) $9$ and b) $9$ \n",
    "2. a) $9$ and b) $0$  \n",
    "3. a) $9$ and b) $-9$ \n",
    "4. a) $3$ and b) $-3$ "
   ]
  },
  {
   "cell_type": "code",
   "execution_count": 13,
   "metadata": {
    "tags": [
     "remove_cell"
    ]
   },
   "outputs": [
    {
     "data": {
      "application/vnd.jupyter.widget-view+json": {
       "model_id": "0bcdcff57ac74fa18a2b25cb6cf18f7a",
       "version_major": 2,
       "version_minor": 0
      },
      "text/plain": [
       "VBox(children=(Output(), RadioButtons(options=((1, 0), (2, 1), (3, 2), (4, 3)), value=0), Button(description='…"
      ]
     },
     "metadata": {},
     "output_type": "display_data"
    }
   ],
   "source": [
    " display(qs2[\"Q2_12\"])"
   ]
  },
  {
   "cell_type": "markdown",
   "metadata": {},
   "source": [
    "**Question 13**: Find the area under the curve for the following function:\n",
    "\n",
    "$$y = x^3  – 3x$$\n",
    "\n",
    "a) between $x = 0$ and $x = 3$, and b) between $x = -2$ and $x = 2$\n",
    "\n",
    "Choose the correct option:\n",
    "\n",
    "1. a) $\\frac{3^3}{4}$ and b) $0$ \n",
    "2. a) $\\frac{9}{4}$ and b) $4$  \n",
    "3. a) $6.75$ and b) $-8$ \n",
    "4. a) $6.75$ and b) $10$ "
   ]
  },
  {
   "cell_type": "code",
   "execution_count": 14,
   "metadata": {
    "tags": [
     "remove_cell"
    ]
   },
   "outputs": [
    {
     "data": {
      "application/vnd.jupyter.widget-view+json": {
       "model_id": "a92514eaaf604484acef84a68f195983",
       "version_major": 2,
       "version_minor": 0
      },
      "text/plain": [
       "VBox(children=(Output(), RadioButtons(options=((1, 0), (2, 1), (3, 2), (4, 3)), value=0), Button(description='…"
      ]
     },
     "metadata": {},
     "output_type": "display_data"
    }
   ],
   "source": [
    " display(qs2[\"Q2_13\"])"
   ]
  }
 ],
 "metadata": {
  "celltoolbar": "Tags",
  "kernelspec": {
   "display_name": "Python 3",
   "language": "python",
   "name": "python3"
  },
  "language_info": {
   "codemirror_mode": {
    "name": "ipython",
    "version": 3
   },
   "file_extension": ".py",
   "mimetype": "text/x-python",
   "name": "python",
   "nbconvert_exporter": "python",
   "pygments_lexer": "ipython3",
   "version": "3.7.1"
  }
 },
 "nbformat": 4,
 "nbformat_minor": 4
}
