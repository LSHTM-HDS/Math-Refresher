{
 "cells": [
  {
   "cell_type": "markdown",
   "metadata": {
    "hideCode": false,
    "hideOutput": true,
    "hidePrompt": true
   },
   "source": [
    "# Quiz 4: Combinatorics\n"
   ]
  },
  {
   "cell_type": "markdown",
   "metadata": {},
   "source": [
    "If you wish, you can do a self grading version of the quiz below. In order to open the interactive version of the notebook, you need to open it in Binder. To do this, hover your mouse over the rocket symbol (near the top right of the page) and click on the word \"Binder\" which should appear. This will load an interactive quiz. The first time you load this it may take a few minutes. "
   ]
  },
  {
   "cell_type": "markdown",
   "metadata": {
    "tags": [
     "remove_cell"
    ]
   },
   "source": [
    "##  Preamble\n",
    "\n",
    "If running in interactive mode, before attempting the questions below you need to run the whole notebook (click \"Cell\" from the dropdown menus and then choose \"Run All\"). \n",
    "\n",
    "The code below installs the required packages, loads up the solutions and the multiple choice question function used below."
   ]
  },
  {
   "cell_type": "code",
   "execution_count": 14,
   "metadata": {
    "tags": [
     "remove_cell"
    ]
   },
   "outputs": [],
   "source": [
    "%%capture \n",
    "%run ./Solutions.ipynb "
   ]
  },
  {
   "cell_type": "markdown",
   "metadata": {
    "hideCode": true
   },
   "source": [
    "## Quiz\n",
    "\n",
    "This quiz tests materials in the section called \"Combinatorics\". If you are struggling with the questions go back and re-read the relevant material.\n"
   ]
  },
  {
   "cell_type": "markdown",
   "metadata": {
    "tags": [
     "remove_cell"
    ]
   },
   "source": [
    "Each question is initially set to a default value. Choose the correct value and press submit."
   ]
  },
  {
   "cell_type": "markdown",
   "metadata": {
    "hidePrompt": false
   },
   "source": [
    "**Question 1**: If everyone had only two names, a first name and a family name, how many pairs of initials would\n",
    "be possible?\n",
    "\n",
    "Choose the correct answer:\n",
    "\n",
    "1. $26 \\times 26$\n",
    "2. $26 \\times 26 - 2\\times 26$\n",
    "3. $2 \\times 26$\n",
    "4. $26 \\times 25$"
   ]
  },
  {
   "cell_type": "code",
   "execution_count": 15,
   "metadata": {
    "hideCode": false,
    "hidePrompt": false,
    "tags": [
     "remove_cell"
    ]
   },
   "outputs": [
    {
     "data": {
      "application/vnd.jupyter.widget-view+json": {
       "model_id": "0e84bf762d2b45c5b4a8b27851536863",
       "version_major": 2,
       "version_minor": 0
      },
      "text/plain": [
       "VBox(children=(Output(), RadioButtons(options=((1, 0), (2, 1), (3, 2), (4, 3)), value=0), Button(description='…"
      ]
     },
     "metadata": {},
     "output_type": "display_data"
    }
   ],
   "source": [
    " display(qs4[\"Q4_1\"])"
   ]
  },
  {
   "cell_type": "markdown",
   "metadata": {},
   "source": [
    "**Question 2**: Eva is choosing a new bank pin code. The rules for pin codes for her bank are as follows:\n",
    "\n",
    "- A pin code must have 4 digits. \n",
    "- No digit can be repeated in the pin code. \n",
    "\n",
    "What is the number of possible pin codes that Eva could choose? \n",
    "\n",
    "Choose the correct answer:\n",
    "\n",
    "1. $1 \\times 2 \\times 3 \\times 4 \\times 5 \\times ... \\times 9$\n",
    "2. $9!$\n",
    "3. $10!$\n",
    "4. $10 \\times 9 \\times 8 \\times 7$"
   ]
  },
  {
   "cell_type": "code",
   "execution_count": 16,
   "metadata": {
    "tags": [
     "remove_cell"
    ]
   },
   "outputs": [
    {
     "data": {
      "application/vnd.jupyter.widget-view+json": {
       "model_id": "fbddd02d73a247bd99882337ee073c7c",
       "version_major": 2,
       "version_minor": 0
      },
      "text/plain": [
       "VBox(children=(Output(), RadioButtons(options=((1, 0), (2, 1), (3, 2), (4, 3)), value=0), Button(description='…"
      ]
     },
     "metadata": {},
     "output_type": "display_data"
    }
   ],
   "source": [
    " display(qs4[\"Q4_2\"])"
   ]
  },
  {
   "cell_type": "markdown",
   "metadata": {},
   "source": [
    "**Question 3**: A football league of MSc students at the LSHTM contains 8 teams. How many matches need to\n",
    "be played in order that each team plays once against every other team?\n",
    "\n",
    "Choose the correct answer:\n",
    "\n",
    "1. $^8 C_2 = \\frac{8!}{2! 6!}$\n",
    "2. $\\frac{8 \\times 7}{2}$\n",
    "3. Both options above.\n",
    "4. Neither option above."
   ]
  },
  {
   "cell_type": "code",
   "execution_count": 17,
   "metadata": {
    "tags": [
     "remove_cell"
    ]
   },
   "outputs": [
    {
     "data": {
      "application/vnd.jupyter.widget-view+json": {
       "model_id": "22be02290c81499496b4d73febb5ecb9",
       "version_major": 2,
       "version_minor": 0
      },
      "text/plain": [
       "VBox(children=(Output(), RadioButtons(options=((1, 0), (2, 1), (3, 2), (4, 3)), value=0), Button(description='…"
      ]
     },
     "metadata": {},
     "output_type": "display_data"
    }
   ],
   "source": [
    " display(qs4[\"Q4_3\"])"
   ]
  },
  {
   "cell_type": "markdown",
   "metadata": {
    "hideCode": true
   },
   "source": [
    "**Question 4**: A MSc group contains 9 males and 11 females. In how many ways can a committee of two males\n",
    "and two females be formed from the class?\n",
    "\n",
    "Choose the correct solution:\n",
    "\n",
    "1. $1970$\n",
    "2. $1960$\n",
    "3. $1980$\n",
    "4. $1990$"
   ]
  },
  {
   "cell_type": "code",
   "execution_count": 18,
   "metadata": {
    "tags": [
     "remove_cell"
    ]
   },
   "outputs": [
    {
     "data": {
      "application/vnd.jupyter.widget-view+json": {
       "model_id": "3babc408b1e34153ac669506e4efa233",
       "version_major": 2,
       "version_minor": 0
      },
      "text/plain": [
       "VBox(children=(Output(), RadioButtons(options=((1, 0), (2, 1), (3, 2), (4, 3)), value=0), Button(description='…"
      ]
     },
     "metadata": {},
     "output_type": "display_data"
    }
   ],
   "source": [
    " display(qs4[\"Q4_4\"])"
   ]
  },
  {
   "cell_type": "markdown",
   "metadata": {},
   "source": [
    "**Question 5**: A group of 6 male doctors and 6 female doctors is randomly divided into two groups of size 6\n",
    "each. What is the probability that both groups will have the same number of men?\n",
    "\n",
    "Choose the correct answer:\n",
    "\n",
    "1. $^6 C_{12}$\n",
    "2. $\\frac{12!}{6!}$\n",
    "3. $\\frac{6!}{12! 12!}$\n",
    "4. $\\frac{400}{924}$"
   ]
  },
  {
   "cell_type": "code",
   "execution_count": 19,
   "metadata": {
    "tags": [
     "remove_cell"
    ]
   },
   "outputs": [
    {
     "data": {
      "application/vnd.jupyter.widget-view+json": {
       "model_id": "491041562123474081394c562dcd19bb",
       "version_major": 2,
       "version_minor": 0
      },
      "text/plain": [
       "VBox(children=(Output(), RadioButtons(options=((1, 0), (2, 1), (3, 2), (4, 3)), value=0), Button(description='…"
      ]
     },
     "metadata": {},
     "output_type": "display_data"
    }
   ],
   "source": [
    " display(qs4[\"Q4_5\"])"
   ]
  }
 ],
 "metadata": {
  "celltoolbar": "Tags",
  "kernelspec": {
   "display_name": "Python 3",
   "language": "python",
   "name": "python3"
  },
  "language_info": {
   "codemirror_mode": {
    "name": "ipython",
    "version": 3
   },
   "file_extension": ".py",
   "mimetype": "text/x-python",
   "name": "python",
   "nbconvert_exporter": "python",
   "pygments_lexer": "ipython3",
   "version": "3.7.7"
  }
 },
 "nbformat": 4,
 "nbformat_minor": 4
}
