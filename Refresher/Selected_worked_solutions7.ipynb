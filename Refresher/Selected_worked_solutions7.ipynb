{
 "cells": [
  {
   "cell_type": "markdown",
   "metadata": {},
   "source": [
    "# Worked solutions - Quiz 7"
   ]
  },
  {
   "cell_type": "markdown",
   "metadata": {},
   "source": [
    "This page contains sketch notes to some of the quiz questions from Quiz 7. It is not comprehensive. We have tried to include most of the questions where it may not be obvious how to get to the correct answer. "
   ]
  },
  {
   "cell_type": "markdown",
   "metadata": {},
   "source": [
    "## Question 1\n",
    "\n",
    "$$\n",
    "\\begin{align*}\n",
    "E[Z] & = 1 \\times 0.3 + 2 \\times 0.2 + 3 \\times0.4 + 4 \\times 0.1 = 2.3\n",
    "\\end{align*}\n",
    "$$"
   ]
  },
  {
   "cell_type": "markdown",
   "metadata": {},
   "source": [
    "## Question 2\n",
    "\n",
    "$$\n",
    "\\begin{align*}\n",
    "E[Z^2] & = 1^2 \\times 0.3 + 2^2 \\times 0.2 + 3^2 \\times0.4 + 4^2 \\times 0.1 = 6.3\n",
    "\\end{align*}\n",
    "$$"
   ]
  },
  {
   "cell_type": "markdown",
   "metadata": {},
   "source": [
    "##  Question 4\n",
    "\n",
    "$$\n",
    "\\begin{align*}\n",
    "E[2 + 3X] = 2 + 3 E[X] = 2 + 3 \\times 1 = 5\n",
    "\\end{align*}\n",
    "$$"
   ]
  },
  {
   "cell_type": "markdown",
   "metadata": {},
   "source": [
    "## Question 5\n",
    "\n",
    "$$\n",
    "\\begin{align*}\n",
    "E[(2+X)2] = E[4 + 2X] = 4 + 2 E[X] = 4 + 2 \\times 1 = 6\n",
    "\\end{align*}\n",
    "$$"
   ]
  },
  {
   "cell_type": "markdown",
   "metadata": {},
   "source": [
    "## Question 6\n",
    "\n",
    "$$\n",
    "\\begin{align*}\n",
    "Var[10 + 3X] = 3^2 Var(X) = 9 \\times 5 = 45\n",
    "\\end{align*}\n",
    "$$\n"
   ]
  },
  {
   "cell_type": "markdown",
   "metadata": {},
   "source": [
    "## Question 7\n",
    "\n",
    "$$\n",
    "\\begin{align*}\n",
    "E[21 X - 4Y] = E[21X] - E[4Y] = 21 E[X] - 4 E[Y] = 21 \\times 1 - 4 \\times 4 = 5\n",
    "\\end{align*}\n",
    "$$"
   ]
  },
  {
   "cell_type": "markdown",
   "metadata": {},
   "source": [
    "## Question 8\n",
    "\n",
    "$$\n",
    "\\begin{align*}\n",
    "E[3 Z_1 - 2 Z_2 + 1] = 3 E[Z_1]- 2 E[Z_2] + 1 = 3 \\times 3 - 2 \\times 5 + 1 = 0 \n",
    "\\end{align*}\n",
    "$$"
   ]
  },
  {
   "cell_type": "markdown",
   "metadata": {},
   "source": [
    "## Question 9\n",
    "\n",
    "Remember that $Z_1$ and $Z_2$ are independent. Then \n",
    "\n",
    "$$\n",
    "\\begin{align*}\n",
    "Var[3 Z_1 - 2 Z_2 + 1] = 3^2 Var[Z_1] + 2^2 Var[Z_2] = 9 \\times 1 + 4 \\times 2 = 17 \n",
    "\\end{align*}\n",
    "$$"
   ]
  }
 ],
 "metadata": {
  "kernelspec": {
   "display_name": "R",
   "language": "R",
   "name": "ir"
  },
  "language_info": {
   "codemirror_mode": "r",
   "file_extension": ".r",
   "mimetype": "text/x-r-source",
   "name": "R",
   "pygments_lexer": "r",
   "version": "3.6.1"
  }
 },
 "nbformat": 4,
 "nbformat_minor": 4
}
