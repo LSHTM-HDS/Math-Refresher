{
 "cells": [
  {
   "cell_type": "markdown",
   "metadata": {},
   "source": [
    "# Worked solutions - Quiz 6"
   ]
  },
  {
   "cell_type": "markdown",
   "metadata": {},
   "source": [
    "This page contains sketch notes to some of the quiz questions from Quiz 6. It is not comprehensive. We have tried to include most of the questions where it may not be obvious how to get to the correct answer. "
   ]
  },
  {
   "cell_type": "markdown",
   "metadata": {},
   "source": [
    "## Question 2\n",
    "\n",
    "This is an application of the theorem of total probability, noting that the three smoking groups (former, current, never) partition the sample space. The required probability can also be obtained by calculating the probability of going down all the relevant paths (the ones that lead to an \"Asthma\" box) in the probability tree, multiplying along the paths to get the probability of each path, and summing the probabilities of the relevant paths (Figure below), \n",
    "\n",
    "```{figure} Images/Diagram_prob_tree_smoke.png\n",
    "---\n",
    "height: 400px\n",
    "name: smoke\n",
    "---\n",
    "Probability tree - smoking and asthma, Quiz 6, question 2\n",
    "```\n",
    "\n",
    "$$\n",
    "\\begin{align*}\n",
    "Pr(\\mbox{Asthma}) & =  \\sum_{\\mbox{smoking groups}} Pr(\\mbox{Asthma} | \\mbox{Smoking group}) Pr(\\mbox{Smoking group}) \n",
    "\\\\ & = Pr(\\mbox{Asthma} | \\mbox{Former}) P(\\mbox{Former}) \\\\ & + Pr(\\mbox{Asthma} | \\mbox{Current}) P(\\mbox{Current}) \\\\ & + Pr(\\mbox{Asthma} | \\mbox{Never}) P(\\mbox{Never})   \\\\ & =  0.2 \\times 0.35 + 0.15  \\times 0.2 + 0.05 \\times 0.45 = 0.1225\n",
    "\\end{align*}\n",
    "$$"
   ]
  },
  {
   "cell_type": "markdown",
   "metadata": {},
   "source": [
    "## Question 3\n",
    "\n",
    "The Figure below displays the data in a probability tree. The tree is not necessary here, but can help understand what the different numbers represent. \n",
    "\n",
    "This is an application of Bayes' theorem - we wish to reverse the order of conditioning. \n",
    "\n",
    "$$\n",
    "\\begin{align*}\n",
    "Pr(\\mbox{Face-to-face in 2010} | \\mbox{Video in 2020}) & =  \\frac{Pr( \\mbox{Video in 2020} | \\mbox{Face-to-face in 2010}) P(\\mbox{Face-to-face in 2010})}{Pr(\\mbox{Video in 2020}} \\\\ & = \\frac{0.05 \\times 0.8}{0.05 \\times 0.8 + 0.3 \\times 0.2} \\\\ & = 0.4\n",
    "\\end{align*}\n",
    "$$\n",
    "\n",
    "\n",
    "```{figure} Images/Diagram_prob_tree_gp.png\n",
    "---\n",
    "height: 400px\n",
    "name: gp\n",
    "---\n",
    "Probability tree - contact method for GP, Quiz 6, question 3\n",
    "```\n",
    "\n"
   ]
  }
 ],
 "metadata": {
  "kernelspec": {
   "display_name": "R",
   "language": "R",
   "name": "ir"
  },
  "language_info": {
   "codemirror_mode": "r",
   "file_extension": ".r",
   "mimetype": "text/x-r-source",
   "name": "R",
   "pygments_lexer": "r",
   "version": "3.6.1"
  }
 },
 "nbformat": 4,
 "nbformat_minor": 4
}
