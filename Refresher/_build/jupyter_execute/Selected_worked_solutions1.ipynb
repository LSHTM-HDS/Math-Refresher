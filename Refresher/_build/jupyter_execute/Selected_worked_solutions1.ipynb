{
 "cells": [
  {
   "cell_type": "markdown",
   "metadata": {},
   "source": [
    "# Worked solutions - Quiz 1"
   ]
  },
  {
   "cell_type": "markdown",
   "metadata": {},
   "source": [
    "This page contains sketch notes to some of the quiz questions from Quiz 1. It is not comprehensive. We have tried to include most of the questions where it may not be obvious how to get to the correct answer. "
   ]
  },
  {
   "cell_type": "markdown",
   "metadata": {},
   "source": [
    "## Question 15 \n",
    "\n",
    "$$\n",
    "\\begin{align*}\n",
    " ln\\left(   \\prod_{i=1}^n p^{x_i} (1-p)^{y_i} \\right)\n",
    " &=  ln\\left(  (p^{x_1} (1-p)^{y_1}) \\times (p^{x_2} (1-p)^{y_2}) \\times ... \\times (p^{x_n} (1-p)^{y_n}) \\right) \\\\\n",
    " &= ln(p^{x_1} (1-p)^{y_1}) + ln(p^{x_2} (1-p)^{y_2}) + ... + ln(p^{x_n} (1-p)^{y_n}) \\\\\n",
    "& = \\sum_{i=}^n ln( p^{x_i} (1-p)^{y_i})\n",
    "\\end{align*}\n",
    "$$\n",
    "\n",
    "We have\n",
    "\n",
    "$$\n",
    "\\begin{align*}\n",
    "ln(p^{x_1} (1-p)^{y_1}) & = ln(p^{x_1}) + ln(1-p)^{y_1}) \\\\\n",
    "& = x_1 ln(p) + y_1 ln(1-p)\n",
    "\\end{align*}\n",
    "$$\n",
    "\n",
    "Doing that to each term gives\n",
    "\n",
    "$$\n",
    "\\begin{align*}\n",
    " ln\\left(   \\prod_{i=1}^n p^{x_i} (1-p)^{y_i} \\right) & = \\sum_{i=}^n \\left( x_i ln(p) + y_i ln(1-p) \\right) \\\\\n",
    " & = \\sum_{i=}^n  x_i ln(p) + \\sum_{i=}^n y_i ln(1-p) \\\\\n",
    "\\end{align*}\n",
    "$$\n",
    "\n",
    "where we can split the summation into the two separate terms. Then,\n",
    "\n",
    "$$\n",
    "\\begin{align*}\n",
    " ln\\left(\\prod_{i=1}^n p^{x_i} (1-p)^{y_i} \\right) & = \\sum_{i=}^n  x_i ln(p) + \\sum_{i=}^n y_i ln(1-p) \\\\\n",
    " & = (x_1 ln(p) + x_2 ln(p) + ... + x_n ln(p)) + (y_1 ln(1-p) + y_2 ln(1-p) + ... + y_n ln(1-p)) \\\\\n",
    "  & = ln(p) (x_1 + x_2  + ... + x_n) + ln(1-p) (y_1 + y_2 + ... + y_n) \\\\\n",
    "  & = ln(p) \\sum_{x=1}^n x_i + ln(1-p) \\sum_{i=1}^n y_i\n",
    "\\end{align*}\n",
    "$$"
   ]
  },
  {
   "cell_type": "code",
   "execution_count": null,
   "metadata": {},
   "outputs": [],
   "source": []
  }
 ],
 "metadata": {
  "kernelspec": {
   "display_name": "R",
   "language": "R",
   "name": "ir"
  },
  "language_info": {
   "codemirror_mode": "r",
   "file_extension": ".r",
   "mimetype": "text/x-r-source",
   "name": "R",
   "pygments_lexer": "r",
   "version": "3.6.1"
  }
 },
 "nbformat": 4,
 "nbformat_minor": 4
}