{
 "cells": [
  {
   "cell_type": "markdown",
   "metadata": {},
   "source": [
    "# Worked solutions - Quiz 4"
   ]
  },
  {
   "cell_type": "markdown",
   "metadata": {},
   "source": [
    "This page contains sketch notes to some of the quiz questions from Quiz 4. It is not comprehensive. We have tried to include most of the questions where it may not be obvious how to get to the correct answer. "
   ]
  },
  {
   "cell_type": "markdown",
   "metadata": {},
   "source": [
    "## Question 2\n",
    "\n",
    "4 digits, with no digit repeated. The order matters. \n",
    "\n",
    "There are 10 options for the first digit: $\\{ 0, 1, 2, 3, 4, 5, 6, 7, 8, 9 \\}$\n",
    "\n",
    "There are 9 options for the second digit (the numbers above without whatever was chosen first). There are 8 options for the third digit and 7 options for the fourth. \n",
    "\n",
    "Therefore, there are $10 \\times 9 \\times 8 \\times 7$ possible pin codes. "
   ]
  },
  {
   "cell_type": "markdown",
   "metadata": {},
   "source": [
    "## Question 3\n",
    "\n",
    "Each of the 8 teams must play each other team: $8 \\times 7$. But we're counting every game twice, so the answer is $8 \\times 7 / 2$.\n",
    "\n",
    "Alternatively, each game is a combination of two teams from 8 (combination not permutation since the order doesn't matter - team 1 playing team 3 is the same as team 3 playing team 1). This is \n",
    "\n",
    "$$\n",
    "\\begin{align*}\n",
    "8^C_2 = \\frac{8!}{2! 6!} = \\frac{8 \\times 7 \\times 6 \\times 5 \\times 4 \\times 3 \\times 2 \\times 1}{(2 \\times 1) \\times (6 \\times 5 \\times 4 \\times 3 \\times 2 \\times 1)} = \\frac{8 \\times 7}{2}\n",
    "\\end{align*}\n",
    "$$"
   ]
  },
  {
   "cell_type": "markdown",
   "metadata": {},
   "source": [
    "## Question 4\n",
    "\n",
    "The number of ways of picking two males from 9 is the number of combinations of 2 from 9 (we don't care about the order we pick them in - the committee containing Josh and Andrew is the same as the committee containing Andrew and Josh), \n",
    "\n",
    "$$\n",
    "\\begin{align*}\n",
    "9^C_2 = \\frac{9!}{2! 7!} = \\frac{9 \\times 8}{2} = 9 \\times 4\n",
    "\\end{align*}\n",
    "$$\n",
    "\n",
    "The number of ways of picking two females from 11 is the number of combinations of 2 from 11, \n",
    "\n",
    "$$\n",
    "\\begin{align*}\n",
    "{11}^C_2 = \\frac{11!}{2! 7!} = \\frac{11 \\times 10}{2} = 11 \\times 5\n",
    "\\end{align*}\n",
    "$$\n",
    "\n",
    "The number of total committees is then: \n",
    "\n",
    "$$\n",
    "\\begin{align*}\n",
    "(9 \\times 4) \\times (11 \\times 5) = 10 \\times 99 \\times 2 = 10 \\times 198 = 1980\n",
    "\\end{align*}\n",
    "$$\n"
   ]
  },
  {
   "cell_type": "markdown",
   "metadata": {},
   "source": [
    "## Question 5\n",
    "\n",
    "Any possible division of 12 people into two groups of 6 is determined by the choice of the first 6. The total number of ways of picking 6 people from 12 (where we do not care about the order of the 6 people) is\n",
    "\n",
    "$$\n",
    "\\begin{align*}\n",
    "{12}^C_6 = \\frac{12!}{6! 6!} = 924\n",
    "\\end{align*}\n",
    "$$\n",
    "\n",
    "The total number of ways of picking a committee with 3 men and 3 women is:\n",
    "\n",
    "$$\n",
    "\\begin{align*}\n",
    "{6}^C_3 \\times {6}^C_3 = \\frac{6!}{3! 3!} \\times \\frac{6!}{3! 3!} = 20 \\times 20 = 400\n",
    "\\end{align*}\n",
    "$$\n",
    "\n",
    "The probability of having 3 men and 3 women is:\n",
    "\n",
    "$$\n",
    "\\begin{align*}\n",
    "Pr(\\mbox{3 men and 3 women}) & = \\frac{\\mbox{No. ways picking 3 men and 3 women}}{\\mbox{No. ways of picking committee}} \\\\ & = \n",
    "\\frac{400}{924} = 0.4329\n",
    "\\end{align*}\n",
    "$$\n"
   ]
  },
  {
   "cell_type": "code",
   "execution_count": null,
   "metadata": {},
   "outputs": [],
   "source": []
  }
 ],
 "metadata": {
  "kernelspec": {
   "display_name": "R",
   "language": "R",
   "name": "ir"
  },
  "language_info": {
   "codemirror_mode": "r",
   "file_extension": ".r",
   "mimetype": "text/x-r-source",
   "name": "R",
   "pygments_lexer": "r",
   "version": "3.6.1"
  }
 },
 "nbformat": 4,
 "nbformat_minor": 4
}