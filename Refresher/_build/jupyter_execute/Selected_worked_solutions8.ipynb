{
 "cells": [
  {
   "cell_type": "markdown",
   "metadata": {},
   "source": [
    "# Worked solutions - Quiz 8"
   ]
  },
  {
   "cell_type": "markdown",
   "metadata": {},
   "source": [
    "This page contains sketch notes to some of the quiz questions from Quiz 8. It is not comprehensive. We have tried to include most of the questions where it may not be obvious how to get to the correct answer. "
   ]
  },
  {
   "cell_type": "markdown",
   "metadata": {},
   "source": [
    "## Question 1\n",
    "\n",
    "The cumulative density function is defined as the integral of the probability density function from $-\\infty$ to $x$. In this case, $f(x)$ is zero for all negative values, so the lower bound is instead 0. So we have, for $0 \\leq  x \\leq 2$,\n",
    "\n",
    "$$\n",
    "\\begin{align*}\n",
    "F(x) = \\int_{0}^x f(t) dt & =  \\int_{0}^x \\left( \\frac{t^3}{10} -  \\frac{t}{20} + \\frac{7}{20} \\right) dt \\\\ & = \\left[ \\frac{t^4}{40} -  \\frac{t^2}{40} + \\frac{7 t}{20} \\right]_0^x \\\\ & = \\frac{x^4}{40} -  \\frac{x^2}{40} + \\frac{7 x}{20} \n",
    "\\end{align*}\n",
    "$$"
   ]
  },
  {
   "cell_type": "markdown",
   "metadata": {},
   "source": [
    "## Question 2\n",
    "\n",
    "$$\n",
    "\\begin{align*}\n",
    "E(X) & = \\int_0^2 x f(x) dx \\\\ & = \\int_0^2 x \\left( \\frac{x^3}{10} -  \\frac{x}{20} + \\frac{7}{20} \\right) dx \\\\ & = \n",
    "\\int_0^2 \\left( \\frac{x^4}{10} -  \\frac{x^2}{20} + \\frac{7 x}{20} \\right) dx \\\\ & = \n",
    "\\left[ \\frac{x^5}{50} -  \\frac{x^3}{60} + \\frac{7 x^2}{40} \\right]_0^2 \\\\ & =  \\frac{2^5}{50} -  \\frac{2^3}{60} + \\frac{7 . 2^2}{40} \\\\ & = 1.207\n",
    "\\end{align*}\n",
    "$$"
   ]
  },
  {
   "cell_type": "markdown",
   "metadata": {},
   "source": [
    "## Question 3\n",
    "\n",
    "$$\n",
    "\\begin{align*}\n",
    "E(X^2) & = \\int_0^2 x^2 f(x) dx \\\\ & = \\int_0^2 x^2 \\left( \\frac{x^3}{10} -  \\frac{x}{20} + \\frac{7}{20} \\right) dx \\\\ & = \n",
    "\\int_0^2 \\left( \\frac{x^5}{10} -  \\frac{x^3}{20} + \\frac{7 x^2}{20} \\right) dx \\\\ & = \n",
    "\\left[ \\frac{x^6}{60} -  \\frac{x^4}{80} + \\frac{7 x^3}{60} \\right]_0^2 \\\\ & =  \\frac{2^6}{60} -  \\frac{2^4}{80} + \\frac{7 . 2^3}{60}  \\\\ & = 1.8\n",
    "\\end{align*}\n",
    "$$"
   ]
  },
  {
   "cell_type": "markdown",
   "metadata": {},
   "source": [
    "## Question 4\n",
    "\n",
    "$$\n",
    "\\begin{align*}\n",
    "Var(X) = E(X^2) - (E(X))^2  = 1.8 - 1.207^2 = 0.343\n",
    "\\end{align*}\n",
    "$$"
   ]
  },
  {
   "cell_type": "markdown",
   "metadata": {},
   "source": [
    "## Question 5\n",
    "\n",
    "We have the joint density for $X$ and $Y$ of\n",
    "\n",
    "$$\n",
    "\\begin{align*}\n",
    "f(x,y) = 12 x y (1-x), \\mbox{for} 0<x<1, 0<y<1\n",
    "\\end{align*}\n",
    "$$\n",
    "\n",
    "The marginal density of $Y$ is given by integrating out $X$,\n",
    "\n",
    "$$\n",
    "\\begin{align*}\n",
    "f(y) & = \\int_x f(x,y) dx \\\\ & = \\int_0^1 12 x y (1-x) dx \\\\\n",
    "& = 12 y \\int_0^1  x (1-x) dx \\\\ & = 12 y \\int_0^1  (x -x^2) dx \\\\ & = 12 y \\left[ \\frac{x^2}{2} - \\frac{x^3}{3} \\right]_0^1 \\\\ & =  12 y \\left\\{ \\left( \\frac{1^2}{2} - \\frac{1^3}{3} \\right) - (0 - 0) \\right\\} \\\\ & = 12 y \\times \\frac{1}{6} = 2 y\n",
    "\\end{align*}\n",
    "$$"
   ]
  },
  {
   "cell_type": "markdown",
   "metadata": {},
   "source": [
    "## Question 6\n",
    "\n",
    "We have $f(y) = 2y$ and $f(x) = 6 x (1-x)$ and $f(x,y) = 12 x y (1-x)$, for $0<x<1, 0<y<1$. Random variables $X$ and $Y$ are independent if we can factorise the joint density into the two marginal densities, i.e. if $f(x,y) = f(x) f(y)$. In this case, \n",
    "\n",
    "$$\n",
    "\\begin{align*}\n",
    "f(x, y) & = 12 x y (1-x) = 2y \\times 6 x(1-x) = f(y) \\times f(x)\n",
    "\\end{align*}\n",
    "$$\n",
    "\n",
    "so $X$ and $Y$ are independent. \n",
    "\n"
   ]
  },
  {
   "cell_type": "code",
   "execution_count": null,
   "metadata": {},
   "outputs": [],
   "source": []
  }
 ],
 "metadata": {
  "kernelspec": {
   "display_name": "R",
   "language": "R",
   "name": "ir"
  },
  "language_info": {
   "codemirror_mode": "r",
   "file_extension": ".r",
   "mimetype": "text/x-r-source",
   "name": "R",
   "pygments_lexer": "r",
   "version": "3.6.1"
  }
 },
 "nbformat": 4,
 "nbformat_minor": 4
}