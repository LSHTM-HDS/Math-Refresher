{
 "cells": [
  {
   "cell_type": "markdown",
   "metadata": {},
   "source": [
    "# Worked solutions - Quiz 9"
   ]
  },
  {
   "cell_type": "markdown",
   "metadata": {},
   "source": [
    "This page contains sketch notes to some of the quiz questions from Quiz 9. It is not comprehensive. We have tried to include most of the questions where it may not be obvious how to get to the correct answer. "
   ]
  },
  {
   "cell_type": "markdown",
   "metadata": {},
   "source": [
    "## Question 1\n",
    "\n",
    "$$\n",
    "\\begin{align*}\n",
    "Cov(3X, 2Y) = 3 \\times 2 \\times Cov(X,Y) = 6 \\times 2 = 12\n",
    "\\end{align*}\n",
    "$$"
   ]
  },
  {
   "cell_type": "markdown",
   "metadata": {},
   "source": [
    "## Question 2\n",
    "\n",
    "$$\n",
    "\\begin{align*}\n",
    "Cov(X + Y, 2X - 3Y) & = 2 Cov(X,X) - 3 Cov(X,Y) + 2 Cov(Y,X) - 3 Cov(Y,Y) \\\\ & =  2 Var(X) - Cov(X,Y) - 3 Var(Y) = 2 \\times 1 - 2 - 3\\times 4 = -12\n",
    "\\end{align*}\n",
    "$$"
   ]
  },
  {
   "cell_type": "markdown",
   "metadata": {},
   "source": [
    "## Question 3\n",
    "\n",
    "$$\n",
    "\\begin{align*}\n",
    "Corr(3X, 2Y) & = \\frac{Cov(3X,2Y)}{\\sqrt{Var(3X) Var(2Y)}} \\\\ & = \\frac{12}{\\sqrt{9 \\times Var(X) \\times 4 \\times Var(Y)}} \\\\ & = \\frac{12}{3 \\times 2 \\times \\sqrt{Var(X) \\times Var(Y)}} \\\\ & = \\frac{2}{\\sqrt{4}} = 1  \n",
    "\\end{align*}\n",
    "$$"
   ]
  },
  {
   "cell_type": "markdown",
   "metadata": {},
   "source": [
    "## Question 4\n",
    "\n",
    "$$\n",
    "\\begin{align*}\n",
    "Corr(X - Y, X + Y) & = \\frac{Cov(X - Y, X + Y))}{\\sqrt{Var(X - Y) Var(X + Y)}} \\\\ & = \\frac{Cov(X,X) + Cov(X,Y) - Cov(Y,X) - Cov(Y,Y)}{\\sqrt{Var(X - Y) Var(X + Y)}}  \\\\ & = \\frac{Var(X) - Var(Y)}{\\sqrt{Var(X - Y) Var(X + Y)}}  = 0\n",
    "\\end{align*}\n",
    "$$"
   ]
  },
  {
   "cell_type": "code",
   "execution_count": null,
   "metadata": {},
   "outputs": [],
   "source": []
  }
 ],
 "metadata": {
  "kernelspec": {
   "display_name": "R",
   "language": "R",
   "name": "ir"
  },
  "language_info": {
   "codemirror_mode": "r",
   "file_extension": ".r",
   "mimetype": "text/x-r-source",
   "name": "R",
   "pygments_lexer": "r",
   "version": "3.6.1"
  }
 },
 "nbformat": 4,
 "nbformat_minor": 4
}