{
 "cells": [
  {
   "cell_type": "markdown",
   "metadata": {},
   "source": [
    "# Further material\n"
   ]
  },
  {
   "cell_type": "markdown",
   "metadata": {},
   "source": [
    "\n",
    "## Functions and calculus\n",
    "\n",
    "Some potentially useful websites are listed below.\n",
    "\n",
    "1. The first website contains nice explanations of differentiation and integration.\n",
    "\n",
    "<https://revisionmaths.com/advanced-level-level-maths-revision>\n",
    "\n",
    "2. This next site contains additional exercises on differentiation and other topics which may be useful.\n",
    "\n",
    "<http://www.univie.ac.at/future.media/moe/tests.html>\n",
    "\n",
    "\n",
    "\n",
    "Some useful books are listed below. \n",
    "\n",
    "1. This book contains introductory chapters on basic algebra so it covers most relevant material (but it has no material on matrices).\n",
    "\n",
    "Quick Calculus 2nd Edition: A self-teaching guide by Kleppner $\\&$ Ramsey; published by Wiley.\n",
    "\n",
    "2. This book is more expensive but thorough. \n",
    "\n",
    "Engineering Mathematics by K.A.Stroud and Dexter J. Booth. Published by Palgrave. 7th Edition.\n",
    "\n",
    "\n",
    "## Matrices\n",
    "\n",
    "Searle S.R. $\\&$  Khuri A.I. (2017) Matrix Algebra useful for statistics. Second edition. John Wiley $\\&$ Sons "
   ]
  }
 ],
 "metadata": {
  "kernelspec": {
   "display_name": "Python 3",
   "language": "python",
   "name": "python3"
  },
  "language_info": {
   "codemirror_mode": {
    "name": "ipython",
    "version": 3
   },
   "file_extension": ".py",
   "mimetype": "text/x-python",
   "name": "python",
   "nbconvert_exporter": "python",
   "pygments_lexer": "ipython3",
   "version": "3.7.6"
  }
 },
 "nbformat": 4,
 "nbformat_minor": 4
}