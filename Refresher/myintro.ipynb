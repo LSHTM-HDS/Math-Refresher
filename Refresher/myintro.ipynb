{
 "cells": [
  {
   "cell_type": "markdown",
   "metadata": {},
   "source": [
    "# Maths Refresher"
   ]
  },
  {
   "cell_type": "markdown",
   "metadata": {},
   "source": [
    "This document contains a brief refresher on key mathematics and statistics topics. It is intended for the use of students taking the MSc in Health Data Science at the London School of Hygiene and Tropical Medicine."
   ]
  },
  {
   "cell_type": "markdown",
   "metadata": {},
   "source": [
    "## Acknowledgements\n",
    "\n",
    "This document is based on notes created for the MSc in Medical Statistics, London School of Hygiene and Tropical Medicine.\n",
    "\n",
    "Many people have contributed to this document over time, including a large number of previous and current members of the Department of Medical Statistics at the London School of Hygiene and Tropical Medicine. In particular, we would like to acknowledge contributions from Ian White who created much of this material, and from Vera Mann, Dan Altmann, John Gregson and Jennifer Rogers.\n",
    "\n"
   ]
  },
  {
   "cell_type": "markdown",
   "metadata": {},
   "source": [
    "## Typos, corrections and questions \n",
    "\n",
    "Inevitably there will be some typos in these notes. Please do let us know any you spot (at: <mschds@lshtm.ac.uk>) and we will correct them. \n",
    "\n",
    "Note: Latest update and corrections, 4 August 2021. Thanks for all your feedback so far."
   ]
  },
  {
   "cell_type": "markdown",
   "metadata": {},
   "source": [
    "Enjoy! "
   ]
  }
 ],
 "metadata": {
  "kernelspec": {
   "display_name": "Python 3",
   "language": "python",
   "name": "python3"
  },
  "language_info": {
   "codemirror_mode": {
    "name": "ipython",
    "version": 3
   },
   "file_extension": ".py",
   "mimetype": "text/x-python",
   "name": "python",
   "nbconvert_exporter": "python",
   "pygments_lexer": "ipython3",
   "version": "3.7.1"
  }
 },
 "nbformat": 4,
 "nbformat_minor": 4
}
