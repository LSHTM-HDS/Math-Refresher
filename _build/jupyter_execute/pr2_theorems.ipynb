{
 "cells": [
  {
   "cell_type": "markdown",
   "metadata": {},
   "source": [
    "# Probability Theorems"
   ]
  },
  {
   "cell_type": "markdown",
   "metadata": {},
   "source": [
    "This section discusses two key theorems:\n",
    "\n",
    "1. The theorem of total probability, and\n",
    "2. Bayes' theorem"
   ]
  },
  {
   "cell_type": "markdown",
   "metadata": {},
   "source": [
    "## Partitions\n",
    "\n",
    "The theorem of total probability involves the concept of a partition of a sample space. So we begin by defining a partition."
   ]
  },
  {
   "cell_type": "markdown",
   "metadata": {},
   "source": [
    "The events $B_{1},B_{2},...B_{n}$ partition the sample space $\\Omega$ if\n",
    "\n",
    "- $P(B_{i}) > 0$ for all $i$ (all events in the partition have non-zero probability of occurring)\n",
    "- $\\bigcup^{n}_{i=1} B_{i} = \\Omega$ (i.e. the union of the events = the sample space)\n",
    "- $B_{i} \\cap B_{j} = \\emptyset$ (empty) for all $i \\neq j$,  . i.e. $B_{i}$ and $B_{j}$ are disjoint\n",
    "\n",
    "That is, the events $B_{1},...,B_{n}$ partition the sample space if\n",
    "- all events are possible\n",
    "- at least one event must occur, but\n",
    "- no two events can occur simultaneously"
   ]
  },
  {
   "cell_type": "markdown",
   "metadata": {},
   "source": [
    "### Examples\n",
    "\n",
    "Some examples of partitions of sample spaces are:\n",
    "- Blood groups A, B, AB and O partition the sample space of blood groups.\n",
    "- Dead and alive partition the sample space of vital statuses."
   ]
  },
  {
   "cell_type": "markdown",
   "metadata": {},
   "source": [
    "## Theorem of total probability\n",
    "\n",
    "Sometimes we wish to know the probability of a particular event $A$, but we only have data regarding the probability of the event conditional on some other event. The theorem of total probability allows us to express the probability of an event $A$ occurring in terms of its probability conditional on other events which partition the sample space.\n",
    "\n",
    "Let $A$ be some event, and let $B_1, ..., B_n$ be a partition of the sample space \n",
    "\n",
    "Then the theorem of total probability says that\n",
    "\n",
    "$$\n",
    "P(A) = P(A | B_1)P(B_1) + P(A | B_2)P(B_2) + ... + P(A | B_n)P(B_n)\n",
    "$$\n",
    "\n",
    "or equivalently\n",
    "\n",
    "$$\n",
    "P(A) = \\sum_{j=1}^n P(A | B_j)P(B_j)\n",
    "$$\n",
    "\n",
    "\n",
    "That is, the total probability of $A$ can be calculated if the conditional probability of $A$ given $B_j$ and\n",
    "$P(B_j)$ are known, for all $j$."
   ]
  },
  {
   "cell_type": "markdown",
   "metadata": {},
   "source": [
    "## Bayes' theorem\n",
    "\n",
    "In the theorem of total probability, $P(A)$ is calculated using the knowledge of the conditional probabilities of $A$ given $B$, $P(A|B)$.  In many situations we would like to make statements about the probability of $B$ knowing or conditional on $A$, i.e. we would like to reverse the conditioning. Bayes' Theorem provides a useful and very powerful theorem to do this.\n",
    "\n",
    "From the definition of conditional probability we can express $P(A \\cap B_{j})$ in two different ways\n",
    "\n",
    "$$\n",
    "P(A \\cap B_{j}) = P(A|B_{j}) P(B_{j}) \\\\\n",
    "$$\n",
    "\n",
    "or\n",
    "\n",
    "$$\n",
    "P(A \\cap B_{j}) = P(B_{j}|A) P(A).\n",
    "$$\n",
    "\n",
    "Equating the two, we therefore have\n",
    "\n",
    "$$\n",
    "P(A|B_{j}) P(B_{j}) = P(B_{j}|A) P(A) \\ \\ \\Rightarrow \\ \\ P(B_{j}|A) = \\frac{P(A|B_{j}) P(B_{j})}{P(A)}\n",
    "$$\n",
    "\n",
    "\n",
    "From the theorem of total probability (above) we know that\n",
    "\n",
    "$$\n",
    "P(A) = \\sum^{n}_{k=1} P(A|B_{k}) P(B_{k})\n",
    "$$\n",
    "\n",
    "And so we can write\n",
    "\n",
    "$$\n",
    "P(B_{j}|A) = \\frac{P(A|B_{j}) P(B_{j})}{P(A)} = \\frac{P(A|B_{j}) P(B_{j})}{\\sum^{n}_{k=1} P(A|B_{k}) P(B_{k})}.\n",
    "$$\n",
    "\n",
    "This is **Bayes' Theorem**."
   ]
  },
  {
   "cell_type": "code",
   "execution_count": null,
   "metadata": {},
   "outputs": [],
   "source": []
  }
 ],
 "metadata": {
  "kernelspec": {
   "display_name": "R",
   "language": "R",
   "name": "ir"
  },
  "language_info": {
   "codemirror_mode": "r",
   "file_extension": ".r",
   "mimetype": "text/x-r-source",
   "name": "R",
   "pygments_lexer": "r",
   "version": "3.6.1"
  }
 },
 "nbformat": 4,
 "nbformat_minor": 4
}