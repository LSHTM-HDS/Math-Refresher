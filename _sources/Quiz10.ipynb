{
 "cells": [
  {
   "cell_type": "markdown",
   "metadata": {
    "hideCode": false,
    "hideOutput": true,
    "hidePrompt": true
   },
   "source": [
    "# Quiz 10: More complex questions\n"
   ]
  },
  {
   "cell_type": "markdown",
   "metadata": {},
   "source": [
    "If you wish, you can do a self grading version of the quiz below. In order to open the interactive version of the notebook, you need to open it in Binder. To do this, hover your mouse over the rocket symbol (near the top right of the page) and click on the word \"Binder\" which should appear. This will load an interactive quiz. The first time you load this it may take a few minutes. "
   ]
  },
  {
   "cell_type": "markdown",
   "metadata": {
    "tags": [
     "remove_cell"
    ]
   },
   "source": [
    "##  Preamble\n",
    "\n",
    "If running in interactive mode, before attempting the questions below you need to run the whole notebook (click \"Cell\" from the dropdown menus and then choose \"Run All\"). \n",
    "\n",
    "The code below installs the required packages, loads up the solutions and the multiple choice question function used below."
   ]
  },
  {
   "cell_type": "code",
   "execution_count": 17,
   "metadata": {
    "tags": [
     "remove_cell"
    ]
   },
   "outputs": [],
   "source": [
    "%%capture \n",
    "%run ./Solutions.ipynb "
   ]
  },
  {
   "cell_type": "markdown",
   "metadata": {
    "hideCode": true
   },
   "source": [
    "## Quiz\n",
    "\n",
    "This quiz tests materials in the section called \"Discrete random variables\". If you are struggling with the questions go back and re-read the relevant material.\n"
   ]
  },
  {
   "cell_type": "markdown",
   "metadata": {
    "tags": [
     "remove_cell"
    ]
   },
   "source": [
    "Each question is initially set to a default value. Choose the correct value and press submit."
   ]
  },
  {
   "cell_type": "markdown",
   "metadata": {},
   "source": [
    "### More complex differentiation"
   ]
  },
  {
   "cell_type": "markdown",
   "metadata": {},
   "source": [
    "**Question 1**: Calculate $\\frac{d}{dx} log(x^2)$\n",
    "\n",
    "Choose the correct answer:\n",
    "\n",
    "1. $\\frac{2x}{log(x^2)}$\n",
    "2. $2 x^{-2}$ \n",
    "3. $2 x^{-1}$\n",
    "4. $2 log(x^2)$"
   ]
  },
  {
   "cell_type": "code",
   "execution_count": 18,
   "metadata": {
    "tags": [
     "remove_cell"
    ]
   },
   "outputs": [
    {
     "data": {
      "application/vnd.jupyter.widget-view+json": {
       "model_id": "0f54ecd250ec4511acfd5ad8b676a672",
       "version_major": 2,
       "version_minor": 0
      },
      "text/plain": [
       "VBox(children=(Output(), RadioButtons(options=((1, 0), (2, 1), (3, 2), (4, 3)), value=0), Button(description='…"
      ]
     },
     "metadata": {},
     "output_type": "display_data"
    }
   ],
   "source": [
    " display(qs10[\"Q10_1\"])"
   ]
  },
  {
   "cell_type": "markdown",
   "metadata": {},
   "source": [
    "**Question 2**: Calculate $\\frac{d}{dx} x log(x)$\n",
    "\n",
    "\n",
    "Choose the correct answer:\n",
    "\n",
    "1. $1 + log(x)$\n",
    "2. $\\frac{x}{log(x)}$\n",
    "3. $log(x)+x$\n",
    "4. $log(x^2)$"
   ]
  },
  {
   "cell_type": "code",
   "execution_count": 19,
   "metadata": {
    "tags": [
     "remove_cell"
    ]
   },
   "outputs": [
    {
     "data": {
      "application/vnd.jupyter.widget-view+json": {
       "model_id": "f3d2245a22ba49f59658f14037db8aa9",
       "version_major": 2,
       "version_minor": 0
      },
      "text/plain": [
       "VBox(children=(Output(), RadioButtons(options=((1, 0), (2, 1), (3, 2), (4, 3)), value=0), Button(description='…"
      ]
     },
     "metadata": {},
     "output_type": "display_data"
    }
   ],
   "source": [
    " display(qs10[\"Q10_2\"])"
   ]
  },
  {
   "cell_type": "markdown",
   "metadata": {},
   "source": [
    "**Question 3**: Calculate $\\frac{d}{dx} \\frac{x}{log(x)}$\n",
    "\n",
    "Choose the correct answer:\n",
    "\n",
    "1. $-\\frac{x}{(log(x))^2}$\n",
    "2. $\\frac{1}{(x log(x))^2}$\n",
    "3. $\\frac{log(x) (1 - log(x))}{x^2}$\n",
    "4. $\\frac{1}{log(x)} - \\frac{1}{(log(x))^2}$"
   ]
  },
  {
   "cell_type": "code",
   "execution_count": 20,
   "metadata": {
    "tags": [
     "remove_cell"
    ]
   },
   "outputs": [
    {
     "data": {
      "application/vnd.jupyter.widget-view+json": {
       "model_id": "20afb1525d6443d6a658c86a788fdc95",
       "version_major": 2,
       "version_minor": 0
      },
      "text/plain": [
       "VBox(children=(Output(), RadioButtons(options=((1, 0), (2, 1), (3, 2), (4, 3)), value=0), Button(description='…"
      ]
     },
     "metadata": {},
     "output_type": "display_data"
    }
   ],
   "source": [
    " display(qs10[\"Q10_3\"])"
   ]
  },
  {
   "cell_type": "markdown",
   "metadata": {
    "hidePrompt": false
   },
   "source": [
    "**Question 4**: Calculate $\\frac{d}{d\\beta} \\sum_{i=1}^n log(\\beta x_i + 2 x+i^2)$\n",
    "\n",
    "Choose the correct answer:\n",
    "\n",
    "1. $\\frac{1}{\\sum_{i=1}^n \\beta x_i + 2 x+i^2}$\n",
    "2. $\\sum_{i=1}^n \\frac{x_i}{\\beta x_i + 2 x+i^2}$\n",
    "3. $\\sum_{i=1}^n \\frac{x_i}{log(\\beta x_i + 2 x+i^2)}$\n",
    "4. $\\frac{x_i}{\\beta x_i + 2 x+i^2}$"
   ]
  },
  {
   "cell_type": "code",
   "execution_count": 21,
   "metadata": {
    "tags": [
     "remove_cell"
    ]
   },
   "outputs": [
    {
     "data": {
      "application/vnd.jupyter.widget-view+json": {
       "model_id": "6bd3a5d6a23b40e38dd5fb9869a41ac9",
       "version_major": 2,
       "version_minor": 0
      },
      "text/plain": [
       "VBox(children=(Output(), RadioButtons(options=((1, 0), (2, 1), (3, 2), (4, 3)), value=0), Button(description='…"
      ]
     },
     "metadata": {},
     "output_type": "display_data"
    }
   ],
   "source": [
    " display(qs10[\"Q10_4\"])"
   ]
  },
  {
   "cell_type": "markdown",
   "metadata": {},
   "source": [
    "**Question 5**: Calculate $\\frac{d}{d\\sigma} \\sigma log(\\sigma^2)$\n",
    "\n",
    "Choose the correct answer:\n",
    "\n",
    "1. $2 + log(\\sigma^2)$\n",
    "2. $\\frac{\\sigma}{log(\\sigma^2)} + \\sigma log(\\sigma^2)$\n",
    "3. $log(\\sigma^2)$\n",
    "4. $log(\\sigma^2) + \\frac{2\\sigma}{log(\\sigma^2)}$"
   ]
  },
  {
   "cell_type": "code",
   "execution_count": 22,
   "metadata": {
    "tags": [
     "remove_cell"
    ]
   },
   "outputs": [
    {
     "data": {
      "application/vnd.jupyter.widget-view+json": {
       "model_id": "28ab52dce4e3481c9cb089a4d8b44bdb",
       "version_major": 2,
       "version_minor": 0
      },
      "text/plain": [
       "VBox(children=(Output(), RadioButtons(options=((1, 0), (2, 1), (3, 2), (4, 3)), value=0), Button(description='…"
      ]
     },
     "metadata": {},
     "output_type": "display_data"
    }
   ],
   "source": [
    " display(qs10[\"Q10_5\"])"
   ]
  },
  {
   "cell_type": "markdown",
   "metadata": {},
   "source": [
    "**Question 6**: Calculate $\\frac{d}{d\\theta} \\frac{\\theta}{1 + e^\\theta}$\n",
    "\n",
    "Choose the correct answer:\n",
    "\n",
    "1. $\\frac{1}{1 + e^\\theta}\\left( 1 - \\frac{1}{1 + e^\\theta}\\right)$\n",
    "2. $\\frac{1}{1 + e^\\theta}\\times \\frac{e^\\theta}{1 + e^\\theta}$\n",
    "3. $\\frac{1}{1 + e^\\theta}  - \\frac{\\theta e^\\theta}{1 + e^\\theta}$\n",
    "4. $\\frac{e^\\theta}{1 + e^\\theta}  - \\frac{\\theta e^\\theta}{1 + e^\\theta}$"
   ]
  },
  {
   "cell_type": "code",
   "execution_count": 23,
   "metadata": {
    "tags": [
     "remove_cell"
    ]
   },
   "outputs": [
    {
     "data": {
      "application/vnd.jupyter.widget-view+json": {
       "model_id": "58de7ff35a43420faa4339986bfd282c",
       "version_major": 2,
       "version_minor": 0
      },
      "text/plain": [
       "VBox(children=(Output(), RadioButtons(options=((1, 0), (2, 1), (3, 2), (4, 3)), value=0), Button(description='…"
      ]
     },
     "metadata": {},
     "output_type": "display_data"
    }
   ],
   "source": [
    "display(qs10[\"Q10_6\"])"
   ]
  },
  {
   "cell_type": "markdown",
   "metadata": {},
   "source": [
    "### More complex integration"
   ]
  },
  {
   "cell_type": "markdown",
   "metadata": {},
   "source": [
    "**Question 7**: Calculate $\\int \\frac{2x + 3}{x^2 + 3x - 5} dx$\n",
    "\n",
    "Choose the correct answer:\n",
    "\n",
    "1. $log(x^2 + 3x - 5) + c$\n",
    "2. $\\frac{1}{x^2 + 3x - 5} + c$\n",
    "3. $\\frac{log(x^2 + 3x - 5)}{x^2 + 3x - 5} + c$\n",
    "4. $\\frac{2x^3 + 3x}{x^2 + 3x - 5} + c$"
   ]
  },
  {
   "cell_type": "code",
   "execution_count": 24,
   "metadata": {
    "tags": [
     "remove_cell"
    ]
   },
   "outputs": [
    {
     "data": {
      "application/vnd.jupyter.widget-view+json": {
       "model_id": "b3bc36521c054bd59e174504b0447bee",
       "version_major": 2,
       "version_minor": 0
      },
      "text/plain": [
       "VBox(children=(Output(), RadioButtons(options=((1, 0), (2, 1), (3, 2), (4, 3)), value=0), Button(description='…"
      ]
     },
     "metadata": {},
     "output_type": "display_data"
    }
   ],
   "source": [
    "display(qs10[\"Q10_7\"])"
   ]
  },
  {
   "cell_type": "markdown",
   "metadata": {},
   "source": [
    "**Question 8**: Calculate $\\int \\frac{ln(x)}{x} dx$\n",
    "\n",
    "Choose the correct answer:\n",
    "\n",
    "1. $\\frac{x}{ln(x)} + c$\n",
    "2. $\\frac{1}{2} ln(x)^2 + c$\n",
    "3. $\\frac{ln(x)^2}{x} + c$\n",
    "4. $\\frac{1}{x ln(x)} + c$"
   ]
  },
  {
   "cell_type": "code",
   "execution_count": 25,
   "metadata": {
    "tags": [
     "remove_cell"
    ]
   },
   "outputs": [
    {
     "data": {
      "application/vnd.jupyter.widget-view+json": {
       "model_id": "332192e1c4954b8286191226692a9149",
       "version_major": 2,
       "version_minor": 0
      },
      "text/plain": [
       "VBox(children=(Output(), RadioButtons(options=((1, 0), (2, 1), (3, 2), (4, 3)), value=0), Button(description='…"
      ]
     },
     "metadata": {},
     "output_type": "display_data"
    }
   ],
   "source": [
    "display(qs10[\"Q10_8\"])"
   ]
  },
  {
   "cell_type": "markdown",
   "metadata": {},
   "source": [
    "**Question 9**: Calculate $\\int x^2 e^{3x} dx$\n",
    "\n",
    "Choose the correct answer:\n",
    "\n",
    "1. $e^{3x} (x^3 + 2 x^2 + x)$\n",
    "2. $\\frac{e^{3x}}{9}(x^2 + 2 x + \\frac{1}{3})$\n",
    "3. $e^{3x} (x^2 + \\frac{2}{3} x + \\frac{2}{3})$\n",
    "4. $\\frac{e^{3x}}{3}(x^2 + \\frac{2}{3} x + \\frac{2}{9})$"
   ]
  },
  {
   "cell_type": "code",
   "execution_count": 26,
   "metadata": {
    "tags": [
     "remove_cell"
    ]
   },
   "outputs": [
    {
     "data": {
      "application/vnd.jupyter.widget-view+json": {
       "model_id": "8bcd7473c19d492fad27d0e2a3bad357",
       "version_major": 2,
       "version_minor": 0
      },
      "text/plain": [
       "VBox(children=(Output(), RadioButtons(options=((1, 0), (2, 1), (3, 2), (4, 3)), value=0), Button(description='…"
      ]
     },
     "metadata": {},
     "output_type": "display_data"
    }
   ],
   "source": [
    "display(qs10[\"Q10_9\"])"
   ]
  },
  {
   "cell_type": "markdown",
   "metadata": {},
   "source": [
    "**Question 10**: Calculate $\\int_0^1 x \\alpha x^{\\alpha-1} dx$\n",
    "\n",
    "Choose the correct answer:\n",
    "\n",
    "1. $\\alpha$\n",
    "2. $\\frac{\\alpha}{\\alpha + 1}$\n",
    "3. $\\frac{\\alpha}{\\alpha - 1}$\n",
    "4. $\\frac{\\alpha(1-\\alpha)}{\\alpha^2}$"
   ]
  },
  {
   "cell_type": "code",
   "execution_count": 27,
   "metadata": {
    "tags": [
     "remove_cell"
    ]
   },
   "outputs": [
    {
     "data": {
      "application/vnd.jupyter.widget-view+json": {
       "model_id": "6b5f37733c72433e97506dc3ae9d8c26",
       "version_major": 2,
       "version_minor": 0
      },
      "text/plain": [
       "VBox(children=(Output(), RadioButtons(options=((1, 0), (2, 1), (3, 2), (4, 3)), value=0), Button(description='…"
      ]
     },
     "metadata": {},
     "output_type": "display_data"
    }
   ],
   "source": [
    "display(qs10[\"Q10_10\"])"
   ]
  },
  {
   "cell_type": "markdown",
   "metadata": {},
   "source": [
    "**Question 11**: Calculate $\\int_0^\\infty t \\lambda e^{-\\lambda t} dt$\n",
    "\n",
    "Choose the correct answer:\n",
    "\n",
    "1. $e^{-\\lambda}$\n",
    "2. $\\lambda$\n",
    "3. $\\frac{e^{-\\lambda}}{\\lambda}$\n",
    "4. $\\frac{1}{\\lambda}$"
   ]
  },
  {
   "cell_type": "code",
   "execution_count": 28,
   "metadata": {
    "tags": [
     "remove_cell"
    ]
   },
   "outputs": [
    {
     "data": {
      "application/vnd.jupyter.widget-view+json": {
       "model_id": "f50b4d2a01b54d049825f85d5c44e33f",
       "version_major": 2,
       "version_minor": 0
      },
      "text/plain": [
       "VBox(children=(Output(), RadioButtons(options=((1, 0), (2, 1), (3, 2), (4, 3)), value=0), Button(description='…"
      ]
     },
     "metadata": {},
     "output_type": "display_data"
    }
   ],
   "source": [
    "display(qs10[\"Q10_11\"])"
   ]
  },
  {
   "cell_type": "markdown",
   "metadata": {},
   "source": [
    "### Logarithms"
   ]
  },
  {
   "cell_type": "markdown",
   "metadata": {},
   "source": [
    "**Question 12**: The geometric mean is defined as follows: \n",
    "\n",
    "$$\n",
    "\\tilde{x} = \\ _n\\sqrt{x_1 \\times x_2 \\times ... \\times x_n} = \\left(\\prod_{i=1}^n x_i\\right)^{1/n}\n",
    "$$\n",
    "\n",
    "Suppose we have data $y_1$, $y_2$, ..., $y_n$, and we know that $y_i = ln(x_i)$.   \n",
    "\n",
    "Write the arithmetic mean of the data, $\\bar{y}$, in terms of $\\tilde{x}$.\n",
    "\n",
    "Choose the correct answer:\n",
    "\n",
    "1. $\\bar{y} = \\tilde{x}$\n",
    "2. $\\bar{y} = e^\\tilde{x}$\n",
    "3. $\\bar{y} = log(\\tilde{x})$\n",
    "4. $e^\\bar{y} = e^\\tilde{x}$"
   ]
  },
  {
   "cell_type": "code",
   "execution_count": 29,
   "metadata": {
    "tags": [
     "remove_cell"
    ]
   },
   "outputs": [
    {
     "data": {
      "application/vnd.jupyter.widget-view+json": {
       "model_id": "ba09b53566174c59981383503c881998",
       "version_major": 2,
       "version_minor": 0
      },
      "text/plain": [
       "VBox(children=(Output(), RadioButtons(options=((1, 0), (2, 1), (3, 2), (4, 3)), value=0), Button(description='…"
      ]
     },
     "metadata": {},
     "output_type": "display_data"
    }
   ],
   "source": [
    "display(qs10[\"Q10_12\"])"
   ]
  },
  {
   "cell_type": "markdown",
   "metadata": {},
   "source": [
    "**Question 13**: Suppose that $y(x) = a + b x$. Then $y(x+1) - y(x) = b$. In other words, $b$ is the change in $y$ for a unit increase in $x$.\n",
    "\n",
    "What can we say about $b$ when $log( y(x) )= a + b x$?\n",
    "\n",
    "Choose one:\n",
    "\n",
    "1. $b$ is the multiplicative increase in $y$ for a unit increase in $x$\n",
    "2. $e^b$ is the multiplicative increase in $y$ for a unit increase in $x$\n",
    "3. $b$ is the additive increase in $y$ for a unit increase in $x$\n",
    "4. $2^b$ is the additive increase in $y$ for a unit increase in $x$\n"
   ]
  },
  {
   "cell_type": "code",
   "execution_count": 30,
   "metadata": {
    "tags": [
     "remove_cell"
    ]
   },
   "outputs": [
    {
     "data": {
      "application/vnd.jupyter.widget-view+json": {
       "model_id": "045038e8808047ec9d0af79148c553a2",
       "version_major": 2,
       "version_minor": 0
      },
      "text/plain": [
       "VBox(children=(Output(), RadioButtons(options=((1, 0), (2, 1), (3, 2), (4, 3)), value=0), Button(description='…"
      ]
     },
     "metadata": {},
     "output_type": "display_data"
    }
   ],
   "source": [
    "display(qs10[\"Q10_13\"])"
   ]
  },
  {
   "cell_type": "markdown",
   "metadata": {},
   "source": [
    "## Putting it all together: Finding a maximum likelihood estimator"
   ]
  },
  {
   "cell_type": "markdown",
   "metadata": {},
   "source": [
    "**Question 14**: You will learn the theory behind this method later. For now, we will undertake the mechanics of the calculation. \n",
    "\n",
    "We have data $X_1, X_2, ...X_n$, where each $X_i \\sim N(5, \\sigma^2)$. \n",
    "    \n",
    "We are going to find the maximum likelihood estimate for $\\sigma^2$. During the calculations, keep everything in terms of $\\sigma^2$, not $\\sigma$. If you have problems doing this, you can always substitute $u=\\sigma^2$, and substitute back at the end.\n",
    "\n",
    "\n",
    "The likelihood for the data is:\n",
    "\n",
    "$$\n",
    "L(\\sigma^2) = \\prod_{i=1}^n \\frac{1}{\\sqrt{2 \\pi \\sigma^2}} e^{-\\frac{(x-5)^2}{2 \\sigma^2}}\n",
    "$$\n",
    "\n",
    "Using the skills you have been re-learning in this book, your task is to find the value of $\\sigma^2$ which maximises this likelihood. \n",
    "\n",
    "<br>\n",
    "\n",
    "Hints:  \n",
    "- Take the natural log to get the log-likelihood, $l(\\sigma^2) = L(\\sigma^2)$\n",
    "- Differentiate the log-likelihood with respect to $\\sigma^2$\n",
    "- Solve $l'(\\sigma^2) = 0$ to find the maximum. \n",
    "\n",
    "\n",
    "\n",
    "What is the maximum likelihood estimate for $\\sigma^2$?\n",
    "\n",
    "1. $\\hat{\\sigma}^2 = \\frac{1}{n}\\sum_{i=1}^n \\frac{(x - 5)}{\\sqrt{2 \\pi}}$\n",
    "2. $\\hat{\\sigma}^2 = \\frac{1}{\\sqrt{2 \\pi n}}\\sum_{i=1}^n (x - 5)^2$\n",
    "3. $\\hat{\\sigma}^2 = \\frac{1}{n}\\sum_{i=1}^n (x - 5)^2$\n",
    "4. $\\hat{\\sigma}^2 = (\\bar{x} - 5)^2$\n"
   ]
  },
  {
   "cell_type": "code",
   "execution_count": 31,
   "metadata": {
    "tags": [
     "remove_cell"
    ]
   },
   "outputs": [
    {
     "data": {
      "application/vnd.jupyter.widget-view+json": {
       "model_id": "2ea8e135b68648dfb57cf51e5b6cf33b",
       "version_major": 2,
       "version_minor": 0
      },
      "text/plain": [
       "VBox(children=(Output(), RadioButtons(options=((1, 0), (2, 1), (3, 2), (4, 3)), value=0), Button(description='…"
      ]
     },
     "metadata": {},
     "output_type": "display_data"
    }
   ],
   "source": [
    "display(qs10[\"Q10_14\"])"
   ]
  }
 ],
 "metadata": {
  "celltoolbar": "Tags",
  "kernelspec": {
   "display_name": "Python 3",
   "language": "python",
   "name": "python3"
  },
  "language_info": {
   "codemirror_mode": {
    "name": "ipython",
    "version": 3
   },
   "file_extension": ".py",
   "mimetype": "text/x-python",
   "name": "python",
   "nbconvert_exporter": "python",
   "pygments_lexer": "ipython3",
   "version": "3.7.7"
  }
 },
 "nbformat": 4,
 "nbformat_minor": 4
}
