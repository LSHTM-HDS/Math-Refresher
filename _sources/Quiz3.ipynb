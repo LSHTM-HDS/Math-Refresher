{
 "cells": [
  {
   "cell_type": "markdown",
   "metadata": {
    "hideCode": false,
    "hideOutput": true,
    "hidePrompt": true
   },
   "source": [
    "# Quiz 3: Matrices\n"
   ]
  },
  {
   "cell_type": "markdown",
   "metadata": {},
   "source": [
    "If you wish, you can do a self grading version of the quiz below. In order to open the interactive version of the notebook, you need to open it in Binder. To do this, hover your mouse over the rocket symbol (near the top right of the page) and click on the word \"Binder\" which should appear. This will load an interactive quiz. The first time you load this it may take a few minutes. "
   ]
  },
  {
   "cell_type": "markdown",
   "metadata": {
    "tags": [
     "remove_cell"
    ]
   },
   "source": [
    "##  Preamble\n",
    "\n",
    "If running in interactive mode, before attempting the questions below you need to run the whole notebook (click \"Cell\" from the dropdown menus and then choose \"Run All\"). \n",
    "\n",
    "The code below installs the required packages, loads up the solutions and the multiple choice question function used below."
   ]
  },
  {
   "cell_type": "code",
   "execution_count": 1,
   "metadata": {
    "tags": [
     "remove_cell"
    ]
   },
   "outputs": [],
   "source": [
    "%%capture \n",
    "%run ./Solutions.ipynb "
   ]
  },
  {
   "cell_type": "markdown",
   "metadata": {
    "hideCode": true
   },
   "source": [
    "## Quiz\n",
    "\n",
    "This quiz tests materials in the section called \"Matrices\". If you are struggling with the questions go back and re-read the relevant material.\n"
   ]
  },
  {
   "cell_type": "markdown",
   "metadata": {
    "tags": [
     "remove_cell"
    ]
   },
   "source": [
    "Each question is initially set to a default value. Choose the correct value and press submit."
   ]
  },
  {
   "cell_type": "markdown",
   "metadata": {},
   "source": [
    "Define $A= \\begin{pmatrix}1&4 \\\\ 5&1 \\\\ 2&3\\end{pmatrix}$"
   ]
  },
  {
   "cell_type": "markdown",
   "metadata": {
    "hidePrompt": false
   },
   "source": [
    "**Question 1**: What is the order of $A$? \n",
    "\n",
    "Choose the correct answer:\n",
    "\n",
    "1. $3$\n",
    "2. $3 \\times 2$\n",
    "3. $2 \\times 3$\n",
    "4. $6$"
   ]
  },
  {
   "cell_type": "code",
   "execution_count": 2,
   "metadata": {
    "hideCode": false,
    "hidePrompt": false,
    "tags": [
     "remove_cell"
    ]
   },
   "outputs": [
    {
     "data": {
      "application/vnd.jupyter.widget-view+json": {
       "model_id": "845ac834db97483e93fcbe83b07bdda4",
       "version_major": 2,
       "version_minor": 0
      },
      "text/plain": [
       "VBox(children=(Output(), RadioButtons(options=((1, 0), (2, 1), (3, 2), (4, 3)), value=0), Button(description='…"
      ]
     },
     "metadata": {},
     "output_type": "display_data"
    }
   ],
   "source": [
    " display(qs3[\"Q3_1\"])"
   ]
  },
  {
   "cell_type": "markdown",
   "metadata": {},
   "source": [
    "**Question 2**: What is the transpose of A?\n",
    "\n",
    "Choose the correct answer:\n",
    "\n",
    "1. $\\begin{pmatrix} 1 &4 &5 \\\\2 &1 &3 \\end{pmatrix}$\n",
    "2. The transpose is undefined.\n",
    "3. $\\begin{pmatrix} 1 &5 &2 \\end{pmatrix}$ and $\\begin{pmatrix} 4 &1 &3 \\end{pmatrix}$ \n",
    "4. $\\begin{pmatrix} 1 &5 &2 \\\\ 4 &1 &3 \\end{pmatrix}$ "
   ]
  },
  {
   "cell_type": "code",
   "execution_count": 3,
   "metadata": {
    "tags": [
     "remove_cell"
    ]
   },
   "outputs": [
    {
     "data": {
      "application/vnd.jupyter.widget-view+json": {
       "model_id": "78776d54bc0f41bd9d0faed0a4bfa4b7",
       "version_major": 2,
       "version_minor": 0
      },
      "text/plain": [
       "VBox(children=(Output(), RadioButtons(options=((1, 0), (2, 1), (3, 2), (4, 3)), value=0), Button(description='…"
      ]
     },
     "metadata": {},
     "output_type": "display_data"
    }
   ],
   "source": [
    " display(qs3[\"Q3_2\"])"
   ]
  },
  {
   "cell_type": "markdown",
   "metadata": {
    "hideCode": true
   },
   "source": [
    "**Question 3**: Re-write A as a partitioned matrix formed of two column vectors.\n",
    "\n",
    "Choose the correct solution:\n",
    "\n",
    "1. $A = \\begin{pmatrix} a_1 &a_2 \\end{pmatrix}$ where $a_1  = \\begin{pmatrix} 1 &5 &2 \\end{pmatrix}'$ and $a_2  = \\begin{pmatrix} 4 &1 &3 \\end{pmatrix}'$\n",
    "2. $A = \\begin{pmatrix} a_1 \\\\ a_2 \\end{pmatrix}$ where $a_1  = \\begin{pmatrix} 1 &5 &2 \\end{pmatrix}$ and $a_2  = \\begin{pmatrix} 4 &1 &3 \\end{pmatrix}$\n",
    "3. Partitioning is only defined for square matrices.\n",
    "4. Partitioning requires the matrix to be split into four sub-matrices."
   ]
  },
  {
   "cell_type": "code",
   "execution_count": 4,
   "metadata": {
    "tags": [
     "remove_cell"
    ]
   },
   "outputs": [
    {
     "data": {
      "application/vnd.jupyter.widget-view+json": {
       "model_id": "11460badaedc4f748a36a73df78e6556",
       "version_major": 2,
       "version_minor": 0
      },
      "text/plain": [
       "VBox(children=(Output(), RadioButtons(options=((1, 0), (2, 1), (3, 2), (4, 3)), value=0), Button(description='…"
      ]
     },
     "metadata": {},
     "output_type": "display_data"
    }
   ],
   "source": [
    " display(qs3[\"Q3_3\"])"
   ]
  },
  {
   "cell_type": "markdown",
   "metadata": {},
   "source": [
    "Define $B= \\begin{pmatrix} 4&2 &1 \\\\ 3&6 &3 \\\\ 2&5 &5\\end{pmatrix}$ "
   ]
  },
  {
   "cell_type": "markdown",
   "metadata": {},
   "source": [
    "**Question 4**: What is the main diagonal of B as a column vector?\n",
    "\n",
    "Choose the correct answer:\n",
    "\n",
    "1. $\\begin{pmatrix} 4 &3 &2 \\end{pmatrix}$\n",
    "2. $\\begin{pmatrix} 4 &6 &5 \\end{pmatrix}'$\n",
    "3. $\\begin{pmatrix} 4 &2 &1 \\end{pmatrix}'$\n",
    "4. $\\begin{pmatrix} 4 &6 &5 \\end{pmatrix}$"
   ]
  },
  {
   "cell_type": "code",
   "execution_count": 5,
   "metadata": {
    "tags": [
     "remove_cell"
    ]
   },
   "outputs": [
    {
     "data": {
      "application/vnd.jupyter.widget-view+json": {
       "model_id": "f83da747825f4024bd50d28e5f54a1b2",
       "version_major": 2,
       "version_minor": 0
      },
      "text/plain": [
       "VBox(children=(Output(), RadioButtons(options=((1, 0), (2, 1), (3, 2), (4, 3)), value=0), Button(description='…"
      ]
     },
     "metadata": {},
     "output_type": "display_data"
    }
   ],
   "source": [
    " display(qs3[\"Q3_4\"])"
   ]
  },
  {
   "cell_type": "markdown",
   "metadata": {},
   "source": [
    "**Question 5**: Calculate the trace of B.\n",
    "\n",
    "\n",
    "Choose the correct answer:\n",
    "\n",
    "1. $tr(B) = 16$\n",
    "2. $tr(B) = \\begin{pmatrix} 4 &6 &5 \\end{pmatrix}$\n",
    "3. $tr(B) = 15$\n",
    "4. $tr(B) = \\begin{pmatrix} 4 &6 &5 \\end{pmatrix}'$"
   ]
  },
  {
   "cell_type": "code",
   "execution_count": 6,
   "metadata": {
    "scrolled": false,
    "tags": [
     "remove_cell"
    ]
   },
   "outputs": [
    {
     "data": {
      "application/vnd.jupyter.widget-view+json": {
       "model_id": "f1daf955b9834876a574c6f88f6df5d5",
       "version_major": 2,
       "version_minor": 0
      },
      "text/plain": [
       "VBox(children=(Output(), RadioButtons(options=((1, 0), (2, 1), (3, 2), (4, 3)), value=0), Button(description='…"
      ]
     },
     "metadata": {},
     "output_type": "display_data"
    }
   ],
   "source": [
    " display(qs3[\"Q3_5\"])"
   ]
  },
  {
   "cell_type": "markdown",
   "metadata": {},
   "source": [
    "Define $C= \\begin{pmatrix} 2 &4 \\\\ 3 &1 \\\\ 6 &0\\end{pmatrix}$ "
   ]
  },
  {
   "cell_type": "markdown",
   "metadata": {},
   "source": [
    "**Question 6**: Calculate \n",
    "\n",
    "(i) $A+C$  (ii) $A-C$ (iii) $(A+C)^T$ (iv) $A^T + C^T$\n",
    "\n",
    "Choose the correct answer:\n",
    "\n",
    "1. $A+C=\\begin{pmatrix} 3&8\\\\8&2\\\\8&3\\end{pmatrix}, \\ \\ A-C =\\begin{pmatrix} -1&0\\\\2&0\\\\-4&3\\end{pmatrix}, \\ \\ (A+C)^T=\\begin{pmatrix} 3&8&8\\\\8&2&3\\end{pmatrix}, \\ \\ A^T + C^T=\\begin{pmatrix} 3&8\\\\8&2\\\\8&3\\end{pmatrix}$ \n",
    "2. $A+C=\\begin{pmatrix} 3&8\\\\8&2\\\\8&3\\end{pmatrix}, \\ \\ A-C =\\begin{pmatrix} -1&0\\\\2&0\\\\4&3\\end{pmatrix}, \\ \\ (A+C)^T=\\begin{pmatrix} 3&8&8\\\\8&2&3\\end{pmatrix}, \\ \\ A^T + C^T=\\begin{pmatrix} 3&8&8\\\\8&2&3\\end{pmatrix}$ \n",
    "3. $A+C=\\begin{pmatrix} 3&8\\\\8&2\\\\8&3\\end{pmatrix}, \\ \\ A-C =\\begin{pmatrix} -1&0\\\\2&0\\\\-4&3\\end{pmatrix}, \\ \\ (A+C)^T=\\begin{pmatrix} 3&8&8\\\\8&2&3\\end{pmatrix}, \\ \\ A^T + C^T=\\begin{pmatrix} 3&8&8\\\\8&2&3\\end{pmatrix}$ \n",
    "4. $A+C=\\begin{pmatrix} 3&8\\\\8&2\\\\8&2\\end{pmatrix}, \\ \\ A-C =\\begin{pmatrix} -1&0\\\\2&0\\\\-4&3\\end{pmatrix}, \\ \\ (A+C)^T=\\begin{pmatrix} 3&8&8\\\\8&2&2\\end{pmatrix}, \\ \\ A^T + C^T=\\begin{pmatrix} 3&8\\\\8&2\\\\8&2\\end{pmatrix}$"
   ]
  },
  {
   "cell_type": "code",
   "execution_count": 7,
   "metadata": {
    "tags": [
     "remove_cell"
    ]
   },
   "outputs": [
    {
     "data": {
      "application/vnd.jupyter.widget-view+json": {
       "model_id": "65712190265844c6a17ba50a0e46d1ef",
       "version_major": 2,
       "version_minor": 0
      },
      "text/plain": [
       "VBox(children=(Output(), RadioButtons(options=((1, 0), (2, 1), (3, 2), (4, 3)), value=0), Button(description='…"
      ]
     },
     "metadata": {},
     "output_type": "display_data"
    }
   ],
   "source": [
    " display(qs3[\"Q3_6\"])"
   ]
  },
  {
   "cell_type": "markdown",
   "metadata": {},
   "source": [
    "**Question 7**: What is (a) $2A$, and (b) $-1((A-C)3)$?\n",
    "\n",
    "Choose the correct answer:\n",
    "\n",
    "1. $2A = \\begin{pmatrix} 2 &8 \\\\ 10&2 \\\\ 4&6\\end{pmatrix}$ and $-1((A-C)3) = \\begin{pmatrix} 3&0\\\\-6&0\\\\12&-9\\end{pmatrix}$\n",
    "2. $2A = \\begin{pmatrix} 1&16\\\\25&1\\\\4&9\\end{pmatrix}$ and $-1((A-C)3) = \\begin{pmatrix} 3&0\\\\-6&0\\\\12&-6\\end{pmatrix}$\n",
    "3. $2A = \\begin{pmatrix} 2 &8 \\\\ 10&2 \\\\ 4&6\\end{pmatrix}$ and $-1((A-C)3) = \\begin{pmatrix}3&0\\\\6&0\\\\12&-9\\end{pmatrix}$\n",
    "4. $2A = \\begin{pmatrix} 1&16\\\\25&1\\\\4&9\\end{pmatrix}$ and $-1((A-C)3) = \\begin{pmatrix} 3&0\\\\-6&1\\\\12&-9\\end{pmatrix}$"
   ]
  },
  {
   "cell_type": "code",
   "execution_count": 8,
   "metadata": {
    "tags": [
     "remove_cell"
    ]
   },
   "outputs": [
    {
     "data": {
      "application/vnd.jupyter.widget-view+json": {
       "model_id": "d016c746090040fcba97173ef1589a15",
       "version_major": 2,
       "version_minor": 0
      },
      "text/plain": [
       "VBox(children=(Output(), RadioButtons(options=((1, 0), (2, 1), (3, 2), (4, 3)), value=0), Button(description='…"
      ]
     },
     "metadata": {},
     "output_type": "display_data"
    }
   ],
   "source": [
    " display(qs3[\"Q3_7\"])"
   ]
  },
  {
   "cell_type": "markdown",
   "metadata": {},
   "source": [
    "Define $D= \\begin{pmatrix} 3 \\\\ -1 \\end{pmatrix}$. And we have defined $A= \\begin{pmatrix} 1&4\\\\5&1\\\\2&3 \\end{pmatrix}$ above."
   ]
  },
  {
   "cell_type": "markdown",
   "metadata": {},
   "source": [
    "**Question 8**: What is the order of the matrix $AD$? \n",
    "\n",
    "Choose the correct answer:\n",
    "\n",
    "1. $3$\n",
    "2. $1 \\times 3$\n",
    "3. $2 \\times 3$\n",
    "4. $3 \\times 1$"
   ]
  },
  {
   "cell_type": "code",
   "execution_count": 9,
   "metadata": {
    "scrolled": true,
    "tags": [
     "remove_cell"
    ]
   },
   "outputs": [
    {
     "data": {
      "application/vnd.jupyter.widget-view+json": {
       "model_id": "dcf705763bb944ea82c7294e18e9a2b4",
       "version_major": 2,
       "version_minor": 0
      },
      "text/plain": [
       "VBox(children=(Output(), RadioButtons(options=((1, 0), (2, 1), (3, 2), (4, 3)), value=0), Button(description='…"
      ]
     },
     "metadata": {},
     "output_type": "display_data"
    }
   ],
   "source": [
    " display(qs3[\"Q3_8\"])"
   ]
  },
  {
   "cell_type": "markdown",
   "metadata": {},
   "source": [
    "**Question 9**: Calculate $AD$.\n",
    "\n",
    "Choose the correct answer:\n",
    "\n",
    "1. $AD = \\begin{pmatrix} -1 \\\\ 14 \\\\ 3 \\end{pmatrix}^T$ \n",
    "2. $AD = \\begin{pmatrix} -1 \\\\ 14 \\\\ 3 \\end{pmatrix}$\n",
    "3. $AD = \\begin{pmatrix} -1 \\\\ 14 \\\\ -3 \\end{pmatrix}$\n",
    "4. None of the above"
   ]
  },
  {
   "cell_type": "code",
   "execution_count": 10,
   "metadata": {
    "tags": [
     "remove_cell"
    ]
   },
   "outputs": [
    {
     "data": {
      "application/vnd.jupyter.widget-view+json": {
       "model_id": "379bf9179ee4454dac1e722f43acdf4c",
       "version_major": 2,
       "version_minor": 0
      },
      "text/plain": [
       "VBox(children=(Output(), RadioButtons(options=((1, 0), (2, 1), (3, 2), (4, 3)), value=0), Button(description='…"
      ]
     },
     "metadata": {},
     "output_type": "display_data"
    }
   ],
   "source": [
    " display(qs3[\"Q3_9\"])"
   ]
  },
  {
   "cell_type": "markdown",
   "metadata": {},
   "source": [
    "Remember that $A= \\begin{pmatrix}1&4\\\\5&1\\\\2&3\\end{pmatrix}$  and $B= \\begin{pmatrix} 4&2 &1\\\\3&6 &3\\\\2&5 &5\\end{pmatrix}$ "
   ]
  },
  {
   "cell_type": "markdown",
   "metadata": {},
   "source": [
    "**Question 10**: What is the order of the matrix $BA$?\n",
    "\n",
    "Choose the correct solution:\n",
    "\n",
    "1. $3 \\times 2$ \n",
    "2. $3 \\times 3$\n",
    "3. $2 \\times 6$\n",
    "4. $2 \\times 3$"
   ]
  },
  {
   "cell_type": "code",
   "execution_count": 11,
   "metadata": {
    "tags": [
     "remove_cell"
    ]
   },
   "outputs": [
    {
     "data": {
      "application/vnd.jupyter.widget-view+json": {
       "model_id": "ba8c24a5c2704dd8bd2f78b232ae515d",
       "version_major": 2,
       "version_minor": 0
      },
      "text/plain": [
       "VBox(children=(Output(), RadioButtons(options=((1, 0), (2, 1), (3, 2), (4, 3)), value=0), Button(description='…"
      ]
     },
     "metadata": {},
     "output_type": "display_data"
    }
   ],
   "source": [
    " display(qs3[\"Q3_10\"])"
   ]
  },
  {
   "cell_type": "markdown",
   "metadata": {},
   "source": [
    "**Question 11**: Calculate $BA$ and $AB$.\n",
    "\n",
    "    \n",
    "Choose the correct solution:\n",
    "\n",
    "1. $AB = \\begin{pmatrix}16 &21 \\\\ 39&27 \\\\ 37 &28\\end{pmatrix}$ and $BA = \\begin{pmatrix}16 &21 \\\\ 39&27 \\\\ 37 &28\\end{pmatrix}$\n",
    "2. $AB$ is undefined. $BA = \\begin{pmatrix}16 &21 \\\\ 39&27 \\\\ 37 &28\\end{pmatrix}$\n",
    "3. $BA$ is undefined. $AB = \\begin{pmatrix}16 &21 \\\\ 39&27 \\\\ 37 &28\\end{pmatrix}$\n",
    "4. $BA$ and $AB$ are both undefined. "
   ]
  },
  {
   "cell_type": "code",
   "execution_count": 12,
   "metadata": {
    "scrolled": true,
    "tags": [
     "remove_cell"
    ]
   },
   "outputs": [
    {
     "data": {
      "application/vnd.jupyter.widget-view+json": {
       "model_id": "1a747d73ace44715990a009564147e8e",
       "version_major": 2,
       "version_minor": 0
      },
      "text/plain": [
       "VBox(children=(Output(), RadioButtons(options=((1, 0), (2, 1), (3, 2), (4, 3)), value=0), Button(description='…"
      ]
     },
     "metadata": {},
     "output_type": "display_data"
    }
   ],
   "source": [
    " display(qs3[\"Q3_11\"])"
   ]
  },
  {
   "cell_type": "markdown",
   "metadata": {},
   "source": [
    "Define $E= \\begin{pmatrix} 2 &1 \\\\ -3 &0 \\end{pmatrix}$"
   ]
  },
  {
   "cell_type": "markdown",
   "metadata": {},
   "source": [
    "**Question 12**: Calculate the determinant of $E$.\n",
    "\n",
    "Choose the correct solution:\n",
    "\n",
    "1. -3\n",
    "2. It is undefined - $E$ is a singular matrix.   \n",
    "3. 3\n",
    "4. 9 "
   ]
  },
  {
   "cell_type": "code",
   "execution_count": 13,
   "metadata": {
    "tags": [
     "remove_cell"
    ]
   },
   "outputs": [
    {
     "data": {
      "application/vnd.jupyter.widget-view+json": {
       "model_id": "7033dbed073144419ebb85e55ce1d0e4",
       "version_major": 2,
       "version_minor": 0
      },
      "text/plain": [
       "VBox(children=(Output(), RadioButtons(options=((1, 0), (2, 1), (3, 2), (4, 3)), value=0), Button(description='…"
      ]
     },
     "metadata": {},
     "output_type": "display_data"
    }
   ],
   "source": [
    " display(qs3[\"Q3_12\"])"
   ]
  },
  {
   "cell_type": "markdown",
   "metadata": {},
   "source": [
    "**Question 13**: Calculate the inverse of $E$.\n",
    "\n",
    "Check your calculation by calculating $E E^{-1}$. \n",
    "\n",
    "Choose the correct solution:\n",
    "\n",
    "1. $E^{-1} = \\begin{pmatrix} 0 &-1/3 \\\\ 1&2/3\\end{pmatrix}$ \n",
    "2. $E^{-1} = \\begin{pmatrix} 0 &1 \\\\ -1/3&2/3\\end{pmatrix}$ \n",
    "3. $E^{-1} = \\begin{pmatrix} 0 &1/3 \\\\ -1&2/3\\end{pmatrix}$ \n",
    "4. $E^{-1} = \\begin{pmatrix}  0 &-1 \\\\ 1/3&2/3\\end{pmatrix}$  "
   ]
  },
  {
   "cell_type": "code",
   "execution_count": 14,
   "metadata": {
    "tags": [
     "remove_cell"
    ]
   },
   "outputs": [
    {
     "data": {
      "application/vnd.jupyter.widget-view+json": {
       "model_id": "474fb5b9007d4ed7becd529e2168cba9",
       "version_major": 2,
       "version_minor": 0
      },
      "text/plain": [
       "VBox(children=(Output(), RadioButtons(options=((1, 0), (2, 1), (3, 2), (4, 3)), value=0), Button(description='…"
      ]
     },
     "metadata": {},
     "output_type": "display_data"
    }
   ],
   "source": [
    " display(qs3[\"Q3_13\"])"
   ]
  },
  {
   "cell_type": "markdown",
   "metadata": {},
   "source": [
    "**Question 14**: Is $E$ (a) idempotent? and (b) orthogonal?\n",
    "\n",
    "Choose the correct solution:\n",
    "\n",
    "1. $E$ is idempotent but not orthogonal.\n",
    "2. $E$ is both idempotent and orthogonal.\n",
    "3. $E$ is not idempotent but it is orthogonal.\n",
    "4. $E$ is neither idempotent nor orthogonal."
   ]
  },
  {
   "cell_type": "code",
   "execution_count": 15,
   "metadata": {
    "tags": [
     "remove_cell"
    ]
   },
   "outputs": [
    {
     "data": {
      "application/vnd.jupyter.widget-view+json": {
       "model_id": "60b78b6999da4403b6584923417a6812",
       "version_major": 2,
       "version_minor": 0
      },
      "text/plain": [
       "VBox(children=(Output(), RadioButtons(options=((1, 0), (2, 1), (3, 2), (4, 3)), value=0), Button(description='…"
      ]
     },
     "metadata": {},
     "output_type": "display_data"
    }
   ],
   "source": [
    " display(qs3[\"Q3_14\"])"
   ]
  }
 ],
 "metadata": {
  "celltoolbar": "Tags",
  "kernelspec": {
   "display_name": "Python 3",
   "language": "python",
   "name": "python3"
  },
  "language_info": {
   "codemirror_mode": {
    "name": "ipython",
    "version": 3
   },
   "file_extension": ".py",
   "mimetype": "text/x-python",
   "name": "python",
   "nbconvert_exporter": "python",
   "pygments_lexer": "ipython3",
   "version": "3.7.1"
  }
 },
 "nbformat": 4,
 "nbformat_minor": 4
}
