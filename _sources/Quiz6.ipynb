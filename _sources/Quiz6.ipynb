{
 "cells": [
  {
   "cell_type": "markdown",
   "metadata": {
    "hideCode": false,
    "hideOutput": true,
    "hidePrompt": true
   },
   "source": [
    "# Quiz 6: Probability theorems\n"
   ]
  },
  {
   "cell_type": "markdown",
   "metadata": {},
   "source": [
    "If you wish, you can do a self grading version of the quiz below. In order to open the interactive version of the notebook, you need to open it in Binder. To do this, hover your mouse over the rocket symbol (near the top right of the page) and click on the word \"Binder\" which should appear. This will load an interactive quiz. The first time you load this it may take a few minutes. "
   ]
  },
  {
   "cell_type": "markdown",
   "metadata": {
    "tags": [
     "remove_cell"
    ]
   },
   "source": [
    "##  Preamble\n",
    "\n",
    "If running in interactive mode, before attempting the questions below you need to run the whole notebook (click \"Cell\" from the dropdown menus and then choose \"Run All\"). \n",
    "\n",
    "The code below installs the required packages, loads up the solutions and the multiple choice question function used below."
   ]
  },
  {
   "cell_type": "code",
   "execution_count": 5,
   "metadata": {
    "tags": [
     "remove_cell"
    ]
   },
   "outputs": [],
   "source": [
    "%%capture \n",
    "%run ./Solutions.ipynb "
   ]
  },
  {
   "cell_type": "markdown",
   "metadata": {
    "hideCode": true
   },
   "source": [
    "## Quiz\n",
    "\n",
    "This quiz tests materials in the section called \"Probability theorems\". If you are struggling with the questions go back and re-read the relevant material.\n"
   ]
  },
  {
   "cell_type": "markdown",
   "metadata": {
    "tags": [
     "remove_cell"
    ]
   },
   "source": [
    "Each question is initially set to a default value. Choose the correct value and press submit."
   ]
  },
  {
   "cell_type": "markdown",
   "metadata": {
    "hidePrompt": false
   },
   "source": [
    "**Question 1**: If the sample space is ages (to nearest year) of people under 20 years old, which of these groupings form partitions of the sample space?\n",
    "\n",
    "- Age groups 0-12, 10-19 years\n",
    "- Age groups 0-5, 6-9, 10-19, 20-25 years\n",
    "- Age groups 0-3, 4-13, 14-19 years\n",
    "- Age groups 0-5, 6-9, 11-14, 15-19 years\n",
    "\n",
    "Choose the correct answer:\n",
    "\n",
    "1. All four are partitions\n",
    "2. Only the third option is a partition\n",
    "3. The third and fourth are partitions\n",
    "4. None of them are partitions"
   ]
  },
  {
   "cell_type": "code",
   "execution_count": 6,
   "metadata": {
    "hideCode": false,
    "hidePrompt": false,
    "tags": [
     "remove_cell"
    ]
   },
   "outputs": [
    {
     "data": {
      "application/vnd.jupyter.widget-view+json": {
       "model_id": "940845e7120f4a8ab07c8976421262c1",
       "version_major": 2,
       "version_minor": 0
      },
      "text/plain": [
       "VBox(children=(Output(), RadioButtons(options=((1, 0), (2, 1), (3, 2), (4, 3)), value=0), Button(description='…"
      ]
     },
     "metadata": {},
     "output_type": "display_data"
    }
   ],
   "source": [
    " display(qs6[\"Q6_1\"])"
   ]
  },
  {
   "cell_type": "markdown",
   "metadata": {},
   "source": [
    "The following table shows results from a population-based survey about respiratory health. \n",
    "\n",
    "| Smoking status | Relative frequency | Proportion with asthma |\n",
    "| :-: | :-: | :-: | \n",
    "| Former | 0.35 | 0.20 | \n",
    "| Current | 0.20 | 0.15 | \n",
    "| Never  | 0.45 |  0.05 | "
   ]
  },
  {
   "cell_type": "markdown",
   "metadata": {},
   "source": [
    "**Question 2**: What is the probability that a randomly selected individual from this population has asthma?\n",
    "\n",
    "Choose the correct answer:\n",
    "\n",
    "1. $0.15$\n",
    "2. $1$\n",
    "3. $0.4$\n",
    "4. $0.1225$"
   ]
  },
  {
   "cell_type": "code",
   "execution_count": 7,
   "metadata": {
    "tags": [
     "remove_cell"
    ]
   },
   "outputs": [
    {
     "data": {
      "application/vnd.jupyter.widget-view+json": {
       "model_id": "d246af9b501f4d43a80c043cf8c92ab0",
       "version_major": 2,
       "version_minor": 0
      },
      "text/plain": [
       "VBox(children=(Output(), RadioButtons(options=((1, 0), (2, 1), (3, 2), (4, 3)), value=0), Button(description='…"
      ]
     },
     "metadata": {},
     "output_type": "display_data"
    }
   ],
   "source": [
    " display(qs6[\"Q6_2\"])"
   ]
  },
  {
   "cell_type": "markdown",
   "metadata": {},
   "source": [
    "Electronic health records were used to establish the main medium of contact for each patient with their GP during the year 2020 and the year 2010, in order to explore changes in health service use. \n",
    "\n",
    "In 2010, 80\\% of patients used face-to-face appointments as their main contact with their GP. Results for 2020 are displayed in the table below. Patients are grouped by their main GP contact method in 2010 (face-to-face or telephone). The numbers shown are conditional probabilities of using each method of contact in 2020, given their method of contact in 2010.\n",
    "\n",
    "\n",
    "| In 2010 | In 2020:  | Face-to-face | Telephone | Video consultation |\n",
    "| :-: | :-: | :-: | :-: | :-: |\n",
    "| Face-to-face | | 0.9 | 0.05 | 0.05 | \n",
    "| Telephone | | 0.1 | 0.6 |  0.3|"
   ]
  },
  {
   "cell_type": "markdown",
   "metadata": {},
   "source": [
    "**Question 3**: A patient from this population attends a video consultation in 2020. What is the probability that that same patient used to have face-to-face appointments as their main contact in 2010?\n",
    "\n",
    "Choose the correct answer:\n",
    "\n",
    "1. $0.4$\n",
    "2. $0.3$\n",
    "3. $0.2$\n",
    "4. $0.1$"
   ]
  },
  {
   "cell_type": "code",
   "execution_count": 8,
   "metadata": {
    "tags": [
     "remove_cell"
    ]
   },
   "outputs": [
    {
     "data": {
      "application/vnd.jupyter.widget-view+json": {
       "model_id": "75642a24c20b4dea8aaeea5793865360",
       "version_major": 2,
       "version_minor": 0
      },
      "text/plain": [
       "VBox(children=(Output(), RadioButtons(options=((1, 0), (2, 1), (3, 2), (4, 3)), value=0), Button(description='…"
      ]
     },
     "metadata": {},
     "output_type": "display_data"
    }
   ],
   "source": [
    " display(qs6[\"Q6_3\"])"
   ]
  }
 ],
 "metadata": {
  "celltoolbar": "Tags",
  "kernelspec": {
   "display_name": "Python 3",
   "language": "python",
   "name": "python3"
  },
  "language_info": {
   "codemirror_mode": {
    "name": "ipython",
    "version": 3
   },
   "file_extension": ".py",
   "mimetype": "text/x-python",
   "name": "python",
   "nbconvert_exporter": "python",
   "pygments_lexer": "ipython3",
   "version": "3.7.7"
  }
 },
 "nbformat": 4,
 "nbformat_minor": 4
}
