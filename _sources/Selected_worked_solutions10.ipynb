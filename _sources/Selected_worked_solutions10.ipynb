{
 "cells": [
  {
   "cell_type": "markdown",
   "metadata": {},
   "source": [
    "# Worked solutions - Quiz 10"
   ]
  },
  {
   "cell_type": "markdown",
   "metadata": {},
   "source": [
    "This page contains sketch notes to some of the quiz questions from Quiz 10. It is not comprehensive. We have tried to include most of the questions where it may not be obvious how to get to the correct answer. "
   ]
  },
  {
   "cell_type": "markdown",
   "metadata": {},
   "source": [
    "## Question 1\n",
    "\n",
    "$$\n",
    "\\begin{align*}\n",
    "\\frac{d}{dx} log(x^2) = \\frac{d}{dx} 2 log(x) = 2 \\frac{d}{dx} log(x) = \\frac{2}{x}\n",
    "\\end{align*}\n",
    "$$\n",
    "\n",
    "Alternatively, via the chain rule, $u=x^2$, so $f(x) = log(u)$ and $du/dx = 2x$. Then\n",
    "\n",
    "$$\n",
    "\\begin{align*}\n",
    "\\frac{d}{dx} log(x^2) = \\frac{d}{du} log(u) \\frac{du}{dx} = \\frac{1}{u} \\frac{du}{dx} = \\frac{1}{x^2} \\times 2x = \\frac{2}{x}\n",
    "\\end{align*}\n",
    "$$"
   ]
  },
  {
   "cell_type": "markdown",
   "metadata": {},
   "source": [
    "## Question 2\n",
    "\n",
    "Using the product rule, \n",
    "\n",
    "$$\n",
    "\\begin{align*}\n",
    "\\frac{d}{dx} x log(x) & = x \\frac{d}{dx} log(x) + log(x) \\frac{d}{dx} x \\\\ & = x \\times \\frac{1}{x} + log(x) = 1 + log(x)\n",
    "\\end{align*}\n",
    "$$"
   ]
  },
  {
   "cell_type": "markdown",
   "metadata": {},
   "source": [
    "## Question 3\n",
    "\n",
    "Using the product rule (or you could use the quotient rule), \n",
    "\n",
    "$$\n",
    "\\begin{align*}\n",
    "\\frac{d}{dx} \\frac{x}{log(x)} & = x \\frac{d}{dx} \\frac{1}{log(x)} + \\frac{1}{log(x)} \\frac{d}{dx} x \\\\ & = x \\times \\frac{-1}{xlog(x)^2} + \\frac{1}{log(x)}   \\\\ & = \\frac{1}{log(x)} - \\frac{1}{log(x)^2} \n",
    "\\end{align*}\n",
    "$$"
   ]
  },
  {
   "cell_type": "markdown",
   "metadata": {},
   "source": [
    "## Question 4\n",
    "\n",
    "To simplify this, just look at $i=1$ to start with\n",
    "\n",
    "$$\n",
    "\\begin{align*}\n",
    "\\frac{d}{d\\beta} log(\\beta x_1 + 2 x_1 + 1^2) & = \\frac{1}{\\beta x_1 + 2 x_1 + 1^2} \\frac{d}{d \\beta} (\\beta x_1 + 2 x_1 + 1^2) \\\\\n",
    "& = \\frac{x_1}{\\beta x_1 + 2 x_1 + 1^2} \n",
    "\\end{align*}\n",
    "$$\n",
    "\n",
    "So for any $i=1,2,...,n$, we have\n",
    "\n",
    "$$\n",
    "\\begin{align*}\n",
    "\\frac{d}{d\\beta} log(\\beta x_i + 2 x_i + i^2) & = \\frac{x_i}{\\beta x_i + 2 x_i + i^2} \n",
    "\\end{align*}\n",
    "$$\n",
    "\n",
    "and thus\n",
    "\n",
    "$$\n",
    "\\begin{align*}\n",
    "\\frac{d}{d\\beta} \\sum_{i=1}^n log(\\beta x_i + 2 x_i + i^2) & = \\frac{x_i}{\\beta x_i + 2 x_i + i^2}  = \\sum_{i=1}^n \\frac{d}{d\\beta} log(\\beta x_i + 2 x_i + i^2)  = \\sum_{i=1}^n \\frac{x_i}{\\beta x_i + 2 x_i + i^2}  \n",
    "\\end{align*}\n",
    "$$"
   ]
  },
  {
   "cell_type": "markdown",
   "metadata": {},
   "source": [
    "## Question 5\n",
    "\n",
    "$$\n",
    "\\begin{align*}\n",
    "\\frac{d}{d\\sigma} \\sigma log(\\sigma^2) = 2 \\frac{d}{d\\sigma} \\sigma log(\\sigma) = 2 \\sigma \\frac{d}{d\\sigma} log(\\sigma) + 2 log(\\sigma) \\frac{d}{d\\sigma} \\sigma = 2 \\frac{\\sigma}{\\sigma} + 2 log(\\sigma) = 2 (1 + log(\\sigma))\n",
    "\\end{align*}\n",
    "$$\n",
    "\n",
    "This can also be written as\n",
    "\n",
    "$$\n",
    "\\begin{align*}\n",
    "\\frac{d}{d\\sigma} \\sigma log(\\sigma^2) = 2 + 2 log(\\sigma) = 2 + log(\\sigma^2) \n",
    "\\end{align*}\n",
    "$$\n"
   ]
  },
  {
   "cell_type": "markdown",
   "metadata": {},
   "source": [
    "## Question 6\n",
    "\n",
    "$$\n",
    "\\begin{align*}\n",
    "\\frac{d}{d\\theta} \\frac{\\theta}{1 + e^\\theta} & = \\theta \\frac{d}{d\\theta} \\frac{1}{1 + e^\\theta} + \\frac{1}{1 + e^\\theta}  \\frac{d}{d\\theta} \\theta  \\\\ & = \\theta \\frac{-e^\\theta}{(1 + e^\\theta)^2} + \\frac{1}{1 + e^\\theta}   \\\\ & = \\frac{1}{1 + e^\\theta}  -  \\frac{\\theta e^\\theta}{(1 + e^\\theta)^2}\n",
    "\\end{align*}\n",
    "$$\n"
   ]
  },
  {
   "cell_type": "markdown",
   "metadata": {},
   "source": [
    "## Question 7\n",
    "\n",
    "$$\n",
    "\\begin{align*}\n",
    "\\int \\frac{2x + 3}{x^2 + 3x - 5} dx \n",
    "\\end{align*}\n",
    "$$\n",
    "\n",
    "We notice that if you differentiate the denominator you get the numerator. Using the rule\n",
    "\n",
    "$$\n",
    "\\begin{align*}\n",
    "\\int \\frac{F'(x)}{F(x)} dx  = log(F(x)) + x\n",
    "\\end{align*}\n",
    "$$\n",
    "\n",
    "we have \n",
    "\n",
    "$$\n",
    "\\begin{align*}\n",
    "\\int \\frac{2x + 3}{x^2 + 3x - 5} dx = log(x^2 + 3x - 5) + c\n",
    "\\end{align*}\n",
    "$$\n",
    "\n",
    "where $c$ is a constant. "
   ]
  },
  {
   "cell_type": "markdown",
   "metadata": {},
   "source": [
    "## Question 9\n",
    "\n",
    "You may not need to integrate by parts during this course, so don't worry if this is a bit rusty. \n",
    "\n",
    "$$\n",
    "\\begin{align*}\n",
    "\\int x^2 e^{3x} dx  \n",
    "\\end{align*}\n",
    "$$\n",
    "\n",
    "Let $u=x^2$ so $du/dx=2x$ and $dv/dx=e^{3x}$ so $v = \\frac{e^{3x}}{3}$. Then using \n",
    "\n",
    "$$\n",
    "\\begin{align*}\n",
    "\\int_a^b u \\frac{dv}{dx} dx = [u v]_a^b - \\int_a^b v \\frac{du}{dx}dx  \n",
    "\\end{align*}\n",
    "$$\n",
    "\n",
    "gives\n",
    "\n",
    "$$\n",
    "\\begin{align*}\n",
    "\\int x^2 e^{3x} dx   dx = x^2  \\frac{e^{3x}}{3}  - \\int \\frac{e^{3x}}{3} 2x dx   + c \\\\ & =  \\frac{x^2  e^{3x}}{3}  - \\frac{2}{3} \\int  x e^{3x}  dx + c\n",
    "\\end{align*}\n",
    "$$\n",
    "\n",
    "We do the same thing to solve the second term here. This time, let $u=x$, so $du/dx=1$. As previously, let $dv/dx=e^{3x}$ so  $v = \\frac{e^{3x}}{3}$. Then\n",
    "\n",
    "$$\n",
    "\\begin{align*}\n",
    "\\int x e^{3x}  dx & = x \\frac{e^{3x}}{3} - \\int  \\frac{e^{3x}}{3} dx \\\\\n",
    "& = x \\frac{e^{3x}}{3} - \\frac{1}{3} \\int e^{3x} dx \\\\ & = x \\frac{e^{3x}}{3} - \\frac{1}{3} \\frac{e^{3x}}{3}\n",
    "\\end{align*}\n",
    "$$\n",
    "\n",
    "Putting the two bits together, we have\n",
    "\n",
    "$$\n",
    "\\begin{align*}\n",
    "\\int x^2 e^{3x} dx   dx & =  \\frac{x^2  e^{3x}}{3}  - \\frac{2}{3} \\left( x \\frac{e^{3x}}{3} - \\frac{1}{3} \\frac{e^{3x}}{3} \\right) + c \\\\ & =  \\frac{ e^{3x}}{3^3} \\left(3^2 x^2   - 6 x + 1 \\right) + c\n",
    "\\end{align*}\n",
    "$$"
   ]
  },
  {
   "cell_type": "markdown",
   "metadata": {},
   "source": [
    "## Question 10\n",
    "\n",
    "$$\n",
    "\\begin{align*}\n",
    "\\int_0^1 x \\alpha x^{\\alpha - 1} dx  & = \\int_0^1 x \\alpha x^{\\alpha} dx  = \\left[ \\frac{ \\alpha x^{\\alpha + 1}}{\\alpha + 1} \\right]_0^1 =  \\frac{\\alpha 1^{\\alpha + 1}}{\\alpha + 1} - 0 = \\frac{\\alpha}{\\alpha + 1}\n",
    "\\end{align*}\n",
    "$$"
   ]
  },
  {
   "cell_type": "markdown",
   "metadata": {},
   "source": [
    "## Question 11\n",
    "\n",
    "$$\n",
    "\\begin{align*}\n",
    "\\int_0^\\infty t \\lambda e^{-\\lambda t} dt  \n",
    "\\end{align*}\n",
    "$$\n",
    "\n",
    "Let $u=t$ and $dv/dt = \\lambda e^{-\\lambda t}$. Then $du/dt = 1$ and $v = - e^{-\\lambda t}$. Then\n",
    "\n",
    "$$\n",
    "\\begin{align*}\n",
    "\\int_0^\\infty t \\lambda e^{-\\lambda t} dt  & =  \\left[-t e^{-\\lambda t}\\right]_0^\\infty + \\int_0^\\infty e^{-\\lambda t} dt   \\\\ & = 0 + \\left[ \\frac{e^{-\\lambda t}}{-\\lambda} \\right]_0^\\infty \\\\ & =   - \\frac{- e^{-\\lambda . 0}}{\\lambda} = \\frac{1}{\\lambda}\n",
    "\\end{align*}\n",
    "$$"
   ]
  },
  {
   "cell_type": "markdown",
   "metadata": {},
   "source": [
    "## Questions 12-14\n",
    "\n",
    "For MSc Health Data Science students, more detail is provided in Welcome Week session notes.\n"
   ]
  },
  {
   "cell_type": "code",
   "execution_count": null,
   "metadata": {},
   "outputs": [],
   "source": []
  }
 ],
 "metadata": {
  "kernelspec": {
   "display_name": "R",
   "language": "R",
   "name": "ir"
  },
  "language_info": {
   "codemirror_mode": "r",
   "file_extension": ".r",
   "mimetype": "text/x-r-source",
   "name": "R",
   "pygments_lexer": "r",
   "version": "3.6.1"
  }
 },
 "nbformat": 4,
 "nbformat_minor": 4
}
