{
 "cells": [
  {
   "cell_type": "markdown",
   "metadata": {
    "hideCode": false,
    "hideOutput": true,
    "hidePrompt": true
   },
   "source": [
    "# Solution to quizzes"
   ]
  },
  {
   "cell_type": "markdown",
   "metadata": {},
   "source": [
    "This script contains programs to create multiple choice questions. Subsequent script contains the solutions."
   ]
  },
  {
   "cell_type": "markdown",
   "metadata": {},
   "source": [
    "## Solutions to quiz 1: Functions, exponential and logarithm rules"
   ]
  },
  {
   "cell_type": "markdown",
   "metadata": {},
   "source": [
    "The correct answers are:\n",
    "\n",
    "1. 2\n",
    "2. 3\n",
    "3. 1\n",
    "4. 2 \n",
    "5. 3\n",
    "6. 2\n",
    "7. 1\n",
    "8. 3\n",
    "9. 3\n",
    "10. 2\n",
    "11. 4 \n",
    "12. 4 \n",
    "13. 3 \n",
    "14. 1 \n",
    "15. 3 \n",
    "16. 1"
   ]
  },
  {
   "cell_type": "markdown",
   "metadata": {},
   "source": [
    "## Solutions to quiz 2: Differentiation and Integration"
   ]
  },
  {
   "cell_type": "markdown",
   "metadata": {},
   "source": [
    "The correct answers are:\n",
    "\n",
    "1. 3\n",
    "2. 1 \n",
    "3. 4 \n",
    "4. 2 \n",
    "5. 2  \n",
    "6. 3 \n",
    "7. 4 \n",
    "8. 3 \n",
    "9. 2 \n",
    "10. 4\n",
    "11. 3\n",
    "12. 1\n",
    "13. 1"
   ]
  },
  {
   "cell_type": "markdown",
   "metadata": {},
   "source": [
    "## Solutions to quiz 3: Matrices"
   ]
  },
  {
   "cell_type": "markdown",
   "metadata": {},
   "source": [
    "The correct answers are:\n",
    "\n",
    "1. 2\n",
    "2. 4\n",
    "3. 1\n",
    "4. 2\n",
    "5. 3\n",
    "6. 3\n",
    "7. 1\n",
    "8. 4\n",
    "9. 2\n",
    "10. 1 \n",
    "11. 2 \n",
    "12. 3\n",
    "13. 1\n",
    "14. 4"
   ]
  },
  {
   "cell_type": "markdown",
   "metadata": {},
   "source": [
    "## Solutions to quiz 4: Combinatorics"
   ]
  },
  {
   "cell_type": "markdown",
   "metadata": {},
   "source": [
    "The correct answers are:\n",
    "\n",
    "1. 1\n",
    "2. 4\n",
    "3. 3 \n",
    "4. 3 \n",
    "5. 4"
   ]
  },
  {
   "cell_type": "markdown",
   "metadata": {},
   "source": [
    "## Solutions to quiz 5: Probability"
   ]
  },
  {
   "cell_type": "markdown",
   "metadata": {},
   "source": [
    "The correct answers are:\n",
    "\n",
    "1. 3\n",
    "2. 4\n",
    "3. 1\n",
    "4. 3\n",
    "5. 4\n",
    "6. 2\n",
    "7. 1\n",
    "8. 4\n",
    "9. 2\n",
    "10. 1 "
   ]
  },
  {
   "cell_type": "markdown",
   "metadata": {},
   "source": [
    "## Solutions to quiz 6: Probability theorems"
   ]
  },
  {
   "cell_type": "markdown",
   "metadata": {},
   "source": [
    "The correct answers are:\n",
    "\n",
    "1. 2\n",
    "2. 4\n",
    "3. 1"
   ]
  },
  {
   "cell_type": "markdown",
   "metadata": {},
   "source": [
    "## Solutions to quiz  7: Discrete random variables"
   ]
  },
  {
   "cell_type": "markdown",
   "metadata": {},
   "source": [
    "The correct answers are:\n",
    "\n",
    "1. 3 \n",
    "2. 1 \n",
    "3. 2\n",
    "4. 4 \n",
    "5. 1 \n",
    "6. 3 \n",
    "7. 4\n",
    "8. 1 \n",
    "9. 3  \n",
    "10. 1\n",
    "11. 3 \n",
    "12. 4\n",
    "13. 2 \n",
    "14. 2"
   ]
  },
  {
   "cell_type": "markdown",
   "metadata": {},
   "source": [
    "## Solutions to quiz 8: Continuous random variables"
   ]
  },
  {
   "cell_type": "markdown",
   "metadata": {},
   "source": [
    "The correct answers are:\n",
    "\n",
    "1. 3 \n",
    "2. 3 \n",
    "3. 2\n",
    "4. 1 \n",
    "5. 1 \n",
    "6. 2 "
   ]
  },
  {
   "cell_type": "markdown",
   "metadata": {},
   "source": [
    "## Solutions to quiz 9: Correlation and covariance"
   ]
  },
  {
   "cell_type": "markdown",
   "metadata": {},
   "source": [
    "The correct answers are:\n",
    "\n",
    "1. 2 \n",
    "2. 4 \n",
    "3. 3\n",
    "4. 1  "
   ]
  },
  {
   "cell_type": "markdown",
   "metadata": {},
   "source": [
    "## Solutions to quiz 10: More complex questions"
   ]
  },
  {
   "cell_type": "markdown",
   "metadata": {},
   "source": [
    "The correct answers are:\n",
    "\n",
    "1. 3 \n",
    "2. 1\n",
    "3. 4\n",
    "4. 2 \n",
    "5. 1 \n",
    "6. 3 \n",
    "7. 1 \n",
    "8. 2 \n",
    "9. 4 \n",
    "10. 2\n",
    "11. 4\n",
    "12. 3\n",
    "13. 2 \n",
    "14. 3"
   ]
  },
  {
   "cell_type": "markdown",
   "metadata": {
    "tags": [
     "remove_cell"
    ]
   },
   "source": [
    "The following code allows the interactive version to self-grade automatically."
   ]
  },
  {
   "cell_type": "code",
   "execution_count": 16,
   "metadata": {
    "tags": [
     "remove_cell"
    ]
   },
   "outputs": [
    {
     "name": "stderr",
     "output_type": "stream",
     "text": [
      "Enabling notebook extension jupyter-js-widgets/extension...\n",
      "      - Validating: ok\n"
     ]
    }
   ],
   "source": [
    "!pip install -U -q ipywidgets\n",
    "!jupyter nbextension enable --py widgetsnbextension"
   ]
  },
  {
   "cell_type": "code",
   "execution_count": 17,
   "metadata": {
    "tags": [
     "remove_cell"
    ]
   },
   "outputs": [],
   "source": [
    "import ipywidgets as widgets\n",
    "import sys\n",
    "from IPython.display import display\n",
    "from IPython.display import clear_output"
   ]
  },
  {
   "cell_type": "code",
   "execution_count": 18,
   "metadata": {
    "tags": [
     "remove_cell"
    ]
   },
   "outputs": [],
   "source": [
    "def create_multipleChoice_widget(description, options, correct_answer):\n",
    "    if correct_answer not in options:\n",
    "        options.append(correct_answer)\n",
    "    \n",
    "    correct_answer_index = options.index(correct_answer)\n",
    "    \n",
    "    radio_options = [(words, i) for i, words in enumerate(options)]\n",
    "    alternativ = widgets.RadioButtons(\n",
    "        options = radio_options,\n",
    "        description = '',\n",
    "        disabled = False\n",
    "    )\n",
    "    \n",
    "    description_out = widgets.Output()\n",
    "    with description_out:\n",
    "        print(description)\n",
    "        \n",
    "    feedback_out = widgets.Output()\n",
    "\n",
    "    def check_selection(b):\n",
    "        a = int(alternativ.value)\n",
    "        if a==correct_answer_index:\n",
    "            s = '\\x1b[6;30;42m' + \"Good work\" + '\\x1b[0m' +\"\\n\" #green color\n",
    "        else:\n",
    "            s = '\\x1b[5;30;41m' + \"Try again\" + '\\x1b[0m' +\"\\n\" #red color\n",
    "        with feedback_out:\n",
    "            clear_output()\n",
    "            print(s)\n",
    "        return\n",
    "    \n",
    "    check = widgets.Button(description=\"submit\")\n",
    "    check.on_click(check_selection)\n",
    "    \n",
    "    \n",
    "    return widgets.VBox([description_out, alternativ, check, feedback_out])"
   ]
  },
  {
   "cell_type": "code",
   "execution_count": 19,
   "metadata": {
    "tags": [
     "remove_cell"
    ]
   },
   "outputs": [],
   "source": [
    "def mcq4(correct_answer):\n",
    "    Q = create_multipleChoice_widget('Answer',[1,2,3,4],correct_answer)\n",
    "    return Q"
   ]
  },
  {
   "cell_type": "markdown",
   "metadata": {
    "tags": [
     "remove_cell"
    ]
   },
   "source": [
    "Quiz 1: Functions and rules"
   ]
  },
  {
   "cell_type": "code",
   "execution_count": 20,
   "metadata": {
    "hideCode": false,
    "hideOutput": true,
    "hidePrompt": true,
    "tags": [
     "remove_cell"
    ]
   },
   "outputs": [],
   "source": [
    "## Store answers in a dictionary\n",
    "ans1 = {1:2, 2:3, 3:1, 4:2, 5:3, 6:2, 7:1, 8:3, 9:3, 10:2, 11:4, 12:4, 13:3, 14:1, 15:3, 16:1}\n",
    "\n",
    "## Store questions in dictionary using dictionary comprehension \n",
    "qs1 = {\"Q1_\" + str(i+1): mcq4(ans1[i+1]) for i in range(16)}  "
   ]
  },
  {
   "cell_type": "markdown",
   "metadata": {
    "tags": [
     "remove_cell"
    ]
   },
   "source": [
    "Quiz 2: Differentiation and Integration"
   ]
  },
  {
   "cell_type": "code",
   "execution_count": 21,
   "metadata": {
    "tags": [
     "remove_cell"
    ]
   },
   "outputs": [],
   "source": [
    "## Store answers in a dictionary\n",
    "ans2 = {1:3, 2:1, 3:4, 4:2, 5:2, 6:3, 7:4, 8:3, 9:2, 10:4, 11:3, 12:1, 13:1}\n",
    "\n",
    "## Store questions in dictionary using dictionary comprehension \n",
    "qs2 = {\"Q2_\" + str(i+1): mcq4(ans2[i+1]) for i in range(13)}  "
   ]
  },
  {
   "cell_type": "markdown",
   "metadata": {
    "tags": [
     "remove_cell"
    ]
   },
   "source": [
    "Quiz 3: Matrices"
   ]
  },
  {
   "cell_type": "code",
   "execution_count": 22,
   "metadata": {
    "tags": [
     "remove_cell"
    ]
   },
   "outputs": [],
   "source": [
    "## Store answers in a dictionary\n",
    "ans3 = {1:2, 2:4, 3:1, 4:2, 5:3, 6:3, 7:1, 8:4, 9:2, 10:1, 11:2, 12:3, 13:1, 14:4}\n",
    "\n",
    "## Store questions in dictionary using dictionary comprehension \n",
    "qs3 = {\"Q3_\" + str(i+1): mcq4(ans3[i+1]) for i in range(14)}  "
   ]
  },
  {
   "cell_type": "markdown",
   "metadata": {
    "tags": [
     "remove_cell"
    ]
   },
   "source": [
    "Quiz 4: Combinatorics"
   ]
  },
  {
   "cell_type": "code",
   "execution_count": 23,
   "metadata": {
    "tags": [
     "remove_cell"
    ]
   },
   "outputs": [],
   "source": [
    "## Store answers in a dictionary\n",
    "ans4 = {1:1, 2:4, 3:3, 4:3, 5:4}\n",
    "\n",
    "## Store questions in dictionary using dictionary comprehension \n",
    "qs4 = {\"Q4_\" + str(i+1): mcq4(ans4[i+1]) for i in range(5)} "
   ]
  },
  {
   "cell_type": "markdown",
   "metadata": {
    "tags": [
     "remove_cell"
    ]
   },
   "source": [
    "Quiz 5: Probability"
   ]
  },
  {
   "cell_type": "code",
   "execution_count": 24,
   "metadata": {
    "tags": [
     "remove_cell"
    ]
   },
   "outputs": [],
   "source": [
    "## Store answers in a dictionary\n",
    "ans5 = {1:3, 2:4, 3:1, 4:3, 5:4, 6:2, 7:1, 8:4, 9:2, 10:1}\n",
    "\n",
    "## Store questions in dictionary using dictionary comprehension \n",
    "qs5 = {\"Q5_\" + str(i+1): mcq4(ans5[i+1]) for i in range(10)} "
   ]
  },
  {
   "cell_type": "markdown",
   "metadata": {
    "tags": [
     "remove_cell"
    ]
   },
   "source": [
    "Quiz 6: Probability theorems"
   ]
  },
  {
   "cell_type": "code",
   "execution_count": 25,
   "metadata": {
    "tags": [
     "remove_cell"
    ]
   },
   "outputs": [],
   "source": [
    "## Store answers in a dictionary\n",
    "ans6 = {1:2, 2:4, 3:1}\n",
    "\n",
    "## Store questions in dictionary using dictionary comprehension \n",
    "qs6 = {\"Q6_\" + str(i+1): mcq4(ans6[i+1]) for i in range(3)} "
   ]
  },
  {
   "cell_type": "markdown",
   "metadata": {
    "tags": [
     "remove_cell"
    ]
   },
   "source": [
    "Quiz 7: Discrete random variables"
   ]
  },
  {
   "cell_type": "code",
   "execution_count": 26,
   "metadata": {
    "tags": [
     "remove_cell"
    ]
   },
   "outputs": [],
   "source": [
    "## Store answers in a dictionary\n",
    "ans7 = {1:3, 2:1, 3:2, 4:4, 5:1, 6:3, 7:4, 8:1, 9:3, 10:1, 11:3, 12:4, 13:2, 14:2}\n",
    "\n",
    "## Store questions in dictionary using dictionary comprehension \n",
    "qs7 = {\"Q7_\" + str(i+1): mcq4(ans7[i+1]) for i in range(14)} "
   ]
  },
  {
   "cell_type": "markdown",
   "metadata": {
    "tags": [
     "remove_cell"
    ]
   },
   "source": [
    "Quiz 8: Continuous random variables"
   ]
  },
  {
   "cell_type": "code",
   "execution_count": 27,
   "metadata": {
    "tags": [
     "remove_cell"
    ]
   },
   "outputs": [],
   "source": [
    "## Store answers in a dictionary\n",
    "ans8 = {1:3, 2:3, 3:2, 4:1, 5:1, 6:2}\n",
    "\n",
    "## Store questions in dictionary using dictionary comprehension \n",
    "qs8 = {\"Q8_\" + str(i+1): mcq4(ans8[i+1]) for i in range(6)} "
   ]
  },
  {
   "cell_type": "markdown",
   "metadata": {
    "tags": [
     "remove_cell"
    ]
   },
   "source": [
    "Quiz 9: Correlation and covariance"
   ]
  },
  {
   "cell_type": "code",
   "execution_count": 28,
   "metadata": {
    "tags": [
     "remove_cell"
    ]
   },
   "outputs": [],
   "source": [
    "## Store answers in a dictionary\n",
    "ans9 = {1:2, 2:4, 3:3, 4:1}\n",
    "\n",
    "## Store questions in dictionary using dictionary comprehension \n",
    "qs9 = {\"Q9_\" + str(i+1): mcq4(ans9[i+1]) for i in range(4)} "
   ]
  },
  {
   "cell_type": "markdown",
   "metadata": {
    "tags": [
     "remove_cell"
    ]
   },
   "source": [
    "Quiz 10: More complex questions"
   ]
  },
  {
   "cell_type": "code",
   "execution_count": 29,
   "metadata": {
    "tags": [
     "remove_cell"
    ]
   },
   "outputs": [],
   "source": [
    "## Store answers in a dictionary\n",
    "ans10 =  {1:3, 2:1, 3:4, 4:2, 5:1, 6:3, 7:1, 8:2, 9:4, 10:2, 11:4, 12:3, 13:2, 14:3}\n",
    "\n",
    "## Store questions in dictionary using dictionary comprehension \n",
    "qs10 = {\"Q10_\" + str(i+1): mcq4(ans10[i+1]) for i in range(14)} "
   ]
  }
 ],
 "metadata": {
  "celltoolbar": "Tags",
  "kernelspec": {
   "display_name": "Python 3",
   "language": "python",
   "name": "python3"
  },
  "language_info": {
   "codemirror_mode": {
    "name": "ipython",
    "version": 3
   },
   "file_extension": ".py",
   "mimetype": "text/x-python",
   "name": "python",
   "nbconvert_exporter": "python",
   "pygments_lexer": "ipython3",
   "version": "3.7.7"
  }
 },
 "nbformat": 4,
 "nbformat_minor": 4
}
