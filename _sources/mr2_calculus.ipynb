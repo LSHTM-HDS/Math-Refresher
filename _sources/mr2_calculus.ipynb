{
 "cells": [
  {
   "cell_type": "markdown",
   "metadata": {},
   "source": [
    "# Differentiation and integration"
   ]
  },
  {
   "cell_type": "markdown",
   "metadata": {},
   "source": [
    "## Some rules for differentiation"
   ]
  },
  {
   "cell_type": "markdown",
   "metadata": {},
   "source": [
    "Some simple rules are:\n",
    "\n",
    "$$\\frac{d}{dx} a = 0$$\n",
    "\n",
    "$$\\frac{d}{dx} (a x) = a$$\n",
    "\n",
    "$$\\frac{d}{dx} x^n = n x^{n – 1}$$\n",
    "\n",
    "$$\\frac{d}{dx} log_e(x) = \\frac{1}{x}$$\n",
    "\n",
    "$$\\frac{d}{dx} e^x  = e^x$$\n",
    "\n",
    "And some rules about dealing with differentiating functions, sums and products. For functions of $x$, $F(x)$ and $L(x)$:\n",
    "\n",
    "$$\\frac{d}{dx} e^{F(x)} = \\frac{dF(x)}{dx} e^{F(x)} = F’(x) e^{F(x)}$$\n",
    "\n",
    "$$\\frac{d}{dx} (F(x)+L(x)) =  F’(x) + L’(x)$$\n",
    "\n",
    "$$\\frac{d}{dx} (F(x) . L(x)) = L(x).F’(x) + F(x).L’(x)$$\n",
    "\n",
    "$$\\frac{d}{dx} \\left(\\frac{F(x)}{L(x)}\\right) = \\frac{(F'(x))}{(L(x))} -  \\frac{(F(x).L'(x))}{([L(x)]^2)}$$\n",
    "\n",
    "or\n",
    "\n",
    "$$\\frac{d}{dx} \\left(\\frac{F(x)}{L(x)}\\right) = \\frac{(F'(x)L(x) - L'(x)F(x))}{(L(x)^2)}$$\n",
    "\n",
    "In general, the chain rule is very helpful.\n",
    "\n",
    "$$\\mbox{The chain rule}: \\frac{dy}{dx} = \\frac{dy}{du} \\times \\frac{du}{dx}$$"
   ]
  },
  {
   "cell_type": "markdown",
   "metadata": {},
   "source": [
    "## Note on partial differentiation\n",
    "\n",
    "Suppose we have a function, $F$, of two variables, $x$ and $y$. \n",
    "\n",
    "We can differentiate the function $F$ with respect to $x$, $\\frac{\\partial F}{\\partial x}$. This means we differentiate $F$ with respect to $x$ and consider all other variables (i.e. $y$) to be fixed. \n",
    "\n",
    "Similarly, we can obtain the partial derivative of $F$ with respect to $y$, $\\frac{\\partial F}{\\partial y}$.\n",
    "\n",
    "There are now various second derivatives. We can differentiate with respect to $x$ twice, $\\frac{\\partial^2 F}{\\partial x^2}$, differentiate with respect to $y$ twice,  $\\frac{\\partial^2 F}{\\partial y^2}$, or differentiate with respect to $x$ and then differentiate with respect to $y$,  $\\frac{\\partial^2 F}{\\partial x \\partial y}$. Doing the last steps in the opposite order gives $\\frac{\\partial^2 F}{\\partial y \\partial x}$."
   ]
  },
  {
   "cell_type": "markdown",
   "metadata": {},
   "source": [
    "## Integration"
   ]
  },
  {
   "cell_type": "markdown",
   "metadata": {},
   "source": [
    "Some important integrals. Note, the constant is omitted below, for brevity. \n",
    "\n",
    "$$\\int a \\, dx = ax$$\n",
    "\n",
    "$$\\int a F(x) dx =  a \\int F(x) dx$$\n",
    "\n",
    "$$\\int x^n dx = \\frac{x^{n+1}}{n+1}$$\n",
    "\n",
    "$$\\int F’(x) [F(x)]^n dx = \\frac{[F(x)]^{(n+1)}}{(n+1)}$$\n",
    "\n",
    "$$\\int e^x dx = e^x$$\n",
    "\n",
    "$$\\int F’(x) e^{F(x)}  dx = e^{F(x)}$$\n",
    "\n",
    "$$\\int \\frac{1}{x} = log_e (x)$$\n",
    "\n",
    "$$\\int \\frac{F'(x)}{F(x)} dx = log_e (F(x))$$\n",
    "\n",
    "$$\\int (F(x) + L(x)) dx = \\int F(x) dx + \\int L(x) dx$$\n",
    "\n",
    "Integrating by parts:\n",
    "\n",
    "$$\\int_a^b u \\frac{dv}{dx}dx= [uv]_a^b - \\int_a^b v  \\frac{du}{dx}dx$$"
   ]
  }
 ],
 "metadata": {
  "kernelspec": {
   "display_name": "R",
   "language": "R",
   "name": "ir"
  },
  "language_info": {
   "codemirror_mode": "r",
   "file_extension": ".r",
   "mimetype": "text/x-r-source",
   "name": "R",
   "pygments_lexer": "r",
   "version": "3.6.1"
  }
 },
 "nbformat": 4,
 "nbformat_minor": 4
}
